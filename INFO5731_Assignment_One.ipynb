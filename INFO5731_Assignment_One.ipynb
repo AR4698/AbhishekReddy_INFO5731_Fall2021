{
 "cells": [
  {
   "cell_type": "markdown",
   "metadata": {
    "colab_type": "text",
    "id": "view-in-github"
   },
   "source": [
    "<a href=\"https://colab.research.google.com/github/unt-iialab/INFO5731_Spring2020/blob/master/Assignments/INFO5731_Assignment_One.ipynb\" target=\"_parent\"><img src=\"https://colab.research.google.com/assets/colab-badge.svg\" alt=\"Open In Colab\"/></a>"
   ]
  },
  {
   "cell_type": "markdown",
   "metadata": {
    "colab_type": "text",
    "id": "Ryk8D1Q4Wsrp"
   },
   "source": [
    "# **INFO5731 Assignment One**"
   ]
  },
  {
   "cell_type": "markdown",
   "metadata": {
    "colab_type": "text",
    "id": "90_NR8c5XGWc"
   },
   "source": [
    "# Question 1\n",
    "\n",
    "(20 points). Write a Python program to generate 12 random numbers between 1 and 100. Sort the list of numbers in ascending order and print it out. Sort the list of numbers in descending order and print it out. Calculate the average for the group and print it out."
   ]
  },
  {
   "cell_type": "code",
   "execution_count": 33,
   "metadata": {
    "colab": {},
    "colab_type": "code",
    "id": "5QX6bJjGWXY9"
   },
   "outputs": [
    {
     "name": "stdout",
     "output_type": "stream",
     "text": [
      "[12, 63, 89, 69, 62, 23, 79, 2, 73, 3, 57, 48]\n",
      "sorting with built-in function -> ascending order : [2, 3, 12, 23, 48, 57, 62, 63, 69, 73, 79, 89]\n",
      "Sorting without built-in function --> Ascending order : [2, 3, 12, 23, 48, 57, 62, 63, 69, 73, 79, 89]\n",
      "sorting with built-in function --> descending order : [89, 79, 73, 69, 63, 62, 57, 48, 23, 12, 3, 2]\n",
      "Sorting without built-in function in reverse order --> descending order : [89, 79, 73, 69, 63, 62, 57, 48, 23, 12, 3, 2]\n",
      "Total value of the group is : 580 and The Average of the group is 48.333333333333336\n"
     ]
    }
   ],
   "source": [
    "# Your code here\n",
    "\n",
    "#Importing the random library package to generate random numbers\n",
    "import random \n",
    "\n",
    "n=range(12) # Since we need to generate 12 numbers , given the range of 12 to n \n",
    "arr=[] # created an array to store the generated random numbers.\n",
    "\n",
    "# the loop goes through 12 times and each time we're appending an random number that's being generated to an array.\n",
    "\n",
    "for i in n :\n",
    "    arr.append(random.randrange(1,100))\n",
    "\n",
    "print(arr) # printing out the random numbers generated from the above for loop.\n",
    "\n",
    "# Sorting the list of number's in ascending order \n",
    "\n",
    "# One way we can do this by using the sort() function which by default does sorting in ascending order.\n",
    "\n",
    "asc=arr\n",
    "asc.sort() # It does the sorting in ascending order\n",
    "print(\"sorting with built-in function -> ascending order : {}\".format(asc) )\n",
    "\n",
    "# Another way is by using simple bubble sort algorithm as follows:-\n",
    "\n",
    "asc_sort=arr\n",
    "\n",
    "Number = int(12)\n",
    "\n",
    "\n",
    "for i in range(Number):\n",
    "    for j in range(i + 1,Number):\n",
    "        if(asc_sort[i] > asc_sort[j]):\n",
    "            temp = asc_sort[i]\n",
    "            asc_sort[i] = asc_sort[j]\n",
    "            asc_sort[j] = temp\n",
    "            \n",
    "print(\"Sorting without built-in function --> Ascending order : {}\".format(asc_sort))\n",
    "\n",
    "# Sorting the list of number's in descending order \n",
    "\n",
    "# One way we can do this by using the sort(reverse=True) function which  does sorting in descending order.\n",
    "\n",
    "desc=arr\n",
    "desc.sort(reverse=True) # It does the sorting in descending order.\n",
    "print(\"sorting with built-in function --> descending order : {}\".format(desc))\n",
    "\n",
    "# Another way is by using simple bubble sort algorithm in reverse order as follows:-\n",
    "desc_sort=arr\n",
    "\n",
    "for i in range(Number):\n",
    "    for j in range(i + 1,Number):\n",
    "        if(desc_sort[i] < desc_sort[j]):\n",
    "            temp = desc_sort[i]\n",
    "            desc_sort[i] = desc_sort[j]\n",
    "            desc_sort[j] = temp\n",
    "\n",
    "print(\"Sorting without built-in function in reverse order --> descending order : {}\".format(desc_sort))\n",
    "\n",
    "# Calculating the Average of the group\n",
    "\n",
    "Sum = 0\n",
    "\n",
    "for i in n:\n",
    "    Sum += arr[i]\n",
    "    \n",
    "Avg=Sum/12\n",
    "\n",
    "print(\"Total value of the group is : {} and The Average of the group is {}\".format(Sum,Avg))"
   ]
  },
  {
   "cell_type": "markdown",
   "metadata": {
    "colab_type": "text",
    "id": "1F_PZdH9Sh49"
   },
   "source": [
    "# Question 2\n",
    "(25 points). Write a program that will do the following string formatting tasks:\n",
    "\n",
    "(1) Ask the user to enter two sentences.\n",
    "\n",
    "(2) Make each sentence into a list. Each element in the list should correspond to a word in the sentence. For example, if the sentence is \"Alas! Am I alive? This is my first python program\", the program should print out ['Alas, '!', 'Am', 'I', 'alive, '?', 'This', 'is', 'my', 'first', 'python', 'program'].\n",
    "\n",
    "(3) Compare the two sentences. Print out a list of words that occur in both sentences.\n",
    "\n",
    "(4) Remove any punctuation from the sentence and print it back out. It should remove at least the following characters, but it can remove more: period(“.”), comma (“,”), semicolon (“;”), and colon (“:”)\n",
    "\n",
    "(5) Count the number of vowels in the sentences. Print out each vowel and the number of times it appears in the sentences, such as: a:2, e:1, i:0, etc"
   ]
  },
  {
   "cell_type": "code",
   "execution_count": 2,
   "metadata": {
    "colab": {},
    "colab_type": "code",
    "id": "Y0oOSlsOS0cq"
   },
   "outputs": [
    {
     "name": "stdout",
     "output_type": "stream",
     "text": [
      "Ask the user to enter two sentences\n",
      "Enter sentence one: Hey venu.how you and hari doing these days?\n",
      "Enter sentence T: Hey Abhi, i am doing great these days and hari is having fun!!\n",
      "---------------------------------------------------------------------\n",
      "Making each sentence into a list\n",
      "---------------------------------------------------------------------\n",
      "Printing out the sentences in the form of lists\n",
      "First sentence: ['Hey', 'venu', '.', 'how', 'you', 'and', 'hari', 'doing', 'these', 'days', '?']\n",
      "Second Sentence: ['Hey', 'Abhi', ',', 'i', 'am', 'doing', 'great', 'these', 'days', 'and', 'hari', 'is', 'having', 'fun', '!', '!']\n",
      "---------------------------------------------------------------------\n",
      "Compare the two sentences. Print out a list of words that occur in both sentences.\n",
      "Hey\n",
      "and\n",
      "hari\n",
      "doing\n",
      "these\n",
      "days\n",
      "---------------------------------------------------------------------\n",
      "Removing punctuations from both the sentence and print it back out\n",
      "Hey venuhow you and hari doing these days\n",
      "--------\n",
      "Hey Abhi i am doing great these days and hari is having fun\n",
      "---------------------------------------------------------------------\n",
      "\n",
      "Vowel frequency in str1  {'a': 3, 'e': 4, 'i': 2, 'o': 3, 'u': 2}\n",
      "-------------\n",
      "\n",
      "Vowel frequency in str2  {'a': 7, 'e': 4, 'i': 6, 'o': 1, 'u': 1}\n"
     ]
    }
   ],
   "source": [
    "# Your code here\n",
    "\n",
    "# (1) Ask the user to enter two sentences.\n",
    "# str1=input(\"Enter a sentence : \")\n",
    "# str2=input(\"Enter Another sentence : \")\n",
    "\n",
    "# (2) Make each sentence into a list.\n",
    "\n",
    "# One way of doing it , if the special characters \n",
    "# are also taken as words separated by white spaces\n",
    "# str1_list=list(str1.split(\" \"))\n",
    "# str2_list=list(str2.split(\" \"))\n",
    "\n",
    "# print(str1_list) # Prints the sentence into list of words of string \"str1\"\n",
    "# print(str2_list) # Prints the sentence into list of words of string \"str2\"\n",
    "\n",
    "# Another way of doing it if the special characters aren't entered with spaces like the one in example.\n",
    "# Alas! Am I alive? This is my first python program\n",
    "\n",
    "# string_test= \"Alas! Am I alive? This is my first python program\"\n",
    "# test=[]\n",
    "# attach=[]\n",
    "# l=[]\n",
    "# str3=''\n",
    "# for c in string_test:\n",
    "#     if(c!=' ' or c!='!' or c!='?'):\n",
    "#         str3+=c\n",
    "#         continue\n",
    "#     elif c=='!' or c=='?':\n",
    "#         test.append(str3) \n",
    "#         str3=''\n",
    "#         str3+=c\n",
    "#         test.append()\n",
    "#         str3=''\n",
    "#     elif c==' ':\n",
    "#         test.append(c)\n",
    "#     elif c=='?':\n",
    "#         test.append(c)\n",
    "\n",
    "import string # The built-in string class provides the ability to do complex variable substitutions\n",
    "import re # This module provides regular expression matching operations\n",
    "\n",
    "# (1) Ask the user to enter two sentences.\n",
    "print('Ask the user to enter two sentences')\n",
    "str1 = input(\"Enter sentence one: \")\n",
    "str2 = input(\"Enter sentence T: \")\n",
    "print('---------------------------------------------------------------------')\n",
    "# (2) Make each sentence into a list.\n",
    "print('Making each sentence into a list')\n",
    "t1 = re.findall(r\"[\\w']+|[.,!?;:]\", str1)\n",
    "t2 = re.findall(r\"[\\w']+|[.,!?;:]\", str2)\n",
    "print('---------------------------------------------------------------------')\n",
    "# Printing out the sentences\n",
    "print('Printing out the sentences in the form of lists')\n",
    "print(\"First sentence:\",t1)\n",
    "print(\"Second Sentence:\",t2)\n",
    "print('---------------------------------------------------------------------')\n",
    "# (3) Compare the two sentences. Print out a list of words that occur in both sentences.\n",
    "print('Compare the two sentences. Print out a list of words that occur in both sentences.')\n",
    "for w1 in t1:\n",
    "    for w2 in t2:\n",
    "        if w1.lower() == w2.lower():\n",
    "            print(w1)\n",
    "\n",
    "print('---------------------------------------------------------------------')\n",
    "    \n",
    "# (4) Remove any punctuation from the sentence and print it back out. It should remove\n",
    "# at least the following characters, but it can remove more: period(“.”), comma (“,”), semicolon (“;”), and colon (“:”)\n",
    "  \n",
    "print('Removing punctuations from both the sentence and print it back out')\n",
    "re_str1 = re.sub(r'[^\\w\\s]','',str1)\n",
    "print(re_str1)\n",
    "print('--------')\n",
    "re_str2= re.sub(r'[^\\w\\s]','',str2)\n",
    "print(re_str2)\n",
    "print('---------------------------------------------------------------------')         \n",
    "# (5) Count the number of vowels in the sentences. Print out each vowel and the number of times \n",
    "# it appears in the sentences, such as: a:2, e:1, i:0, etc\n",
    "  \n",
    "vowels_str1 = {'a':0, 'e':0, 'i':0, 'o':0, 'u':0}\n",
    "vowels_str2 = {'a':0, 'e':0, 'i':0, 'o':0, 'u':0}\n",
    "for l in str1:\n",
    "    if l.lower() in vowels_str1:\n",
    "        vowels_str1[l.lower()] += 1\n",
    "\n",
    "print(\"\\nVowel frequency in str1 \",vowels_str1)\n",
    "\n",
    "print('-------------')\n",
    "for t in str2:\n",
    "    if t.lower() in vowels_str2:\n",
    "        vowels_str2[t.lower()] += 1\n",
    "\n",
    "print(\"\\nVowel frequency in str2 \",vowels_str2)\n",
    "    \n",
    "\n",
    "\n"
   ]
  },
  {
   "cell_type": "markdown",
   "metadata": {
    "colab_type": "text",
    "id": "CmFoI4jDS9nx"
   },
   "source": [
    "# Question 3 \n",
    "\n",
    "(15 points). The formula that describes the volume V of a sphere with radius r is the following:\n",
    "\n",
    "$ V=\\frac{4}{3}\\ast\\ \\pi\\ast\\ r^3 $\n",
    "\n",
    "Write a program to calculate the value of V when r is in the range of 1–10. Output the result in the following format:\n",
    "\n",
    "\tr\tV\n",
    "\t1\t…\n",
    "\t2\t…\n",
    "\t3\t…\n"
   ]
  },
  {
   "cell_type": "code",
   "execution_count": 5,
   "metadata": {
    "colab": {},
    "colab_type": "code",
    "id": "pEyqeioAT95b"
   },
   "outputs": [
    {
     "name": "stdout",
     "output_type": "stream",
     "text": [
      "r  V \n",
      "1  4.1887902047863905\n",
      "2  33.510321638291124\n",
      "3  113.09733552923254\n",
      "4  268.082573106329\n",
      "5  523.5987755982989\n",
      "6  904.7786842338603\n",
      "7  1436.7550402417319\n",
      "8  2144.660584850632\n",
      "9  3053.6280592892786\n",
      "10  4188.790204786391\n"
     ]
    }
   ],
   "source": [
    "# Your code here\n",
    "\n",
    "pi = 3.1415926535897931 # Pi Value\n",
    "\n",
    "# Volume V of a sphere with radius r\n",
    "\n",
    "\n",
    "# The Formula --> V= 4.0/3.0*pi* r**3 \n",
    "\n",
    "\n",
    "\n",
    "print('r  V ')\n",
    "for r in range(1,11):\n",
    "    print('{}  {}'.format(r,4.0/3.0*pi* r**3))\n",
    "\n"
   ]
  },
  {
   "cell_type": "markdown",
   "metadata": {
    "colab_type": "text",
    "id": "z3tBE7E-Xn5X"
   },
   "source": [
    "# Question 4\n",
    "\n",
    "(40 points). In the field of Data Science, data is often formatted as a comma-delimited (CSV) file, where each line in a file corresponds to a field's value. Refer to Chapter 9 (p. 106) for more information on comma-delimited files. To answer this question, you will need to download the file [Assignment1_denton_housing.csv](https://github.com/unt-iialab/info5731-fall2021/blob/main/assignments/Assignment1_denton_housing.csv) included with this assignment. The file [Assignment1_denton_housing.csv](https://github.com/unt-iialab/info5731-fall2021/blob/main/assignments/Assignment1_denton_housing.csv) contains statistics about housing in the city of Denton from 2008 to 2014. Write a program to implement the following questions.\n",
    "\n",
    "(1) (10 pts) Calculate the difference in the number of Occupied Housing Units from year to year and print it. The difference must be calculated for the consecutive years such as 2008-2009, 2009-2010 etc. Finally, print the values in the ascending order.\n",
    "\n",
    "(2) (10 pts) For all the years, calculate the percentage of housing units which are vacant an occupied. Print the results in the following format:\n",
    "\n",
    "Year Vacant Housing Units Occupied Housing Units\n",
    "\n",
    "    2008  30%   70%                          \n",
    "\t2009 ----- -----\n",
    "\t2010 ----- -----\n",
    "    2011 ----- -----\n",
    "\t2012 ----- -----\n",
    "    2013 ----- -----\n",
    "\t2014 ----- -----\n",
    "  \n",
    "  \n",
    "\n",
    "(3) (10 pts) Calculate and print the valued and years in which the highest number of housing units were vacant and occupied. Print the results in the following format:  \n",
    "\n",
    "                              Year\tValue\n",
    "\tVacant Housing Units\t  -----   -----\n",
    "\tOccupied Housing Units\t-----   -----\n",
    "\n",
    "(4) (10 pts) Calculate the harmonic mean of the total housing units and print it out. You can find the information about harmonic mean here: https://ncalculators.com/statistics/harmonic-mean-calculator.htm"
   ]
  },
  {
   "cell_type": "markdown",
   "metadata": {
    "colab": {},
    "colab_type": "code",
    "id": "lqGYuHBhcsRH"
   },
   "source": [
    "# Your code here\n",
    "\n",
    "# Importing the Neccesary libraries"
   ]
  },
  {
   "cell_type": "code",
   "execution_count": 8,
   "metadata": {},
   "outputs": [
    {
     "name": "stdout",
     "output_type": "stream",
     "text": [
      "Shape:  (42, 3)\n"
     ]
    }
   ],
   "source": [
    "import pandas as pd\n",
    "import statistics\n",
    "\n",
    "denton_housing = pd.read_csv('Assignment1_denton_housing.csv')"
   ]
  },
  {
   "cell_type": "markdown",
   "metadata": {},
   "source": [
    "1) (10 pts) Calculate the difference in the number of Occupied Housing Units from year to year and print it. \n",
    "The difference must be calculated for the consecutive years such as 2008-2009, 2009-2010 etc.\n",
    "Finally, print the values in the ascending order."
   ]
  },
  {
   "cell_type": "code",
   "execution_count": 13,
   "metadata": {},
   "outputs": [
    {
     "name": "stdout",
     "output_type": "stream",
     "text": [
      "Values in ascending order as follows : [-5091, -2622, -1565, -1404, 303, 795]\n"
     ]
    }
   ],
   "source": [
    "# number of Occupied Housing Units = Occ_Housing_Units\n",
    "\n",
    "Occ_Housing_Units = denton_housing[denton_housing['title_field'] == 'Occupied Housing Units'].sort_values(by=['year'])\n",
    "\n",
    "# the difference in the number of Occupied Housing Units from year to year = Diff_H_U_Y2Y\n",
    "\n",
    "Diff_H_U_Y2Y= [list(Occ_Housing_Units['value'].values)[i] - list(Occ_Housing_Units['value'].values)[i+1]\\\n",
    "              for i in range(len(Occ_Housing_Units)-1)]\n",
    "\n",
    "Diff_H_U_Y2Y = sorted(Diff_H_U_Y2Y) # Sorts in ascending order \n",
    "\n",
    "print('Values in ascending order as follows : {}'.format(Diff_H_U_Y2Y))"
   ]
  },
  {
   "cell_type": "markdown",
   "metadata": {},
   "source": [
    "(2) (10 pts) For all the years, calculate the percentage of housing units which are vacant an occupied. Print the results in the following format:\n",
    "\n",
    "Year Vacant Housing Units Occupied Housing Units\n",
    "\n",
    "    2008  30%   70%                          \n",
    "\t2009 ----- -----\n",
    "\t2010 ----- -----\n",
    "    2011 ----- -----\n",
    "\t2012 ----- -----\n",
    "    2013 ----- -----\n",
    "\t2014 ----- -----"
   ]
  },
  {
   "cell_type": "code",
   "execution_count": 26,
   "metadata": {},
   "outputs": [
    {
     "data": {
      "text/html": [
       "<div>\n",
       "<style scoped>\n",
       "    .dataframe tbody tr th:only-of-type {\n",
       "        vertical-align: middle;\n",
       "    }\n",
       "\n",
       "    .dataframe tbody tr th {\n",
       "        vertical-align: top;\n",
       "    }\n",
       "\n",
       "    .dataframe thead th {\n",
       "        text-align: right;\n",
       "    }\n",
       "</style>\n",
       "<table border=\"1\" class=\"dataframe\">\n",
       "  <thead>\n",
       "    <tr style=\"text-align: right;\">\n",
       "      <th></th>\n",
       "      <th>year</th>\n",
       "      <th>Percent of Vacant House</th>\n",
       "      <th>Percent of Occupied House</th>\n",
       "      <th>Vacant House</th>\n",
       "      <th>Occupied House</th>\n",
       "    </tr>\n",
       "  </thead>\n",
       "  <tbody>\n",
       "    <tr>\n",
       "      <th>0</th>\n",
       "      <td>2008</td>\n",
       "      <td>10.882653</td>\n",
       "      <td>89.117347</td>\n",
       "      <td>4483</td>\n",
       "      <td>36711</td>\n",
       "    </tr>\n",
       "    <tr>\n",
       "      <th>1</th>\n",
       "      <td>2009</td>\n",
       "      <td>9.071116</td>\n",
       "      <td>90.928884</td>\n",
       "      <td>3583</td>\n",
       "      <td>35916</td>\n",
       "    </tr>\n",
       "    <tr>\n",
       "      <th>2</th>\n",
       "      <td>2010</td>\n",
       "      <td>8.142556</td>\n",
       "      <td>91.857444</td>\n",
       "      <td>3635</td>\n",
       "      <td>41007</td>\n",
       "    </tr>\n",
       "    <tr>\n",
       "      <th>3</th>\n",
       "      <td>2011</td>\n",
       "      <td>9.379522</td>\n",
       "      <td>90.620478</td>\n",
       "      <td>4213</td>\n",
       "      <td>40704</td>\n",
       "    </tr>\n",
       "    <tr>\n",
       "      <th>4</th>\n",
       "      <td>2012</td>\n",
       "      <td>6.677600</td>\n",
       "      <td>93.322400</td>\n",
       "      <td>3013</td>\n",
       "      <td>42108</td>\n",
       "    </tr>\n",
       "    <tr>\n",
       "      <th>5</th>\n",
       "      <td>2013</td>\n",
       "      <td>8.801788</td>\n",
       "      <td>91.198212</td>\n",
       "      <td>4215</td>\n",
       "      <td>43673</td>\n",
       "    </tr>\n",
       "    <tr>\n",
       "      <th>6</th>\n",
       "      <td>2014</td>\n",
       "      <td>5.730111</td>\n",
       "      <td>94.269889</td>\n",
       "      <td>2814</td>\n",
       "      <td>46295</td>\n",
       "    </tr>\n",
       "  </tbody>\n",
       "</table>\n",
       "</div>"
      ],
      "text/plain": [
       "   year  Percent of Vacant House  Percent of Occupied House  Vacant House  \\\n",
       "0  2008                10.882653                  89.117347          4483   \n",
       "1  2009                 9.071116                  90.928884          3583   \n",
       "2  2010                 8.142556                  91.857444          3635   \n",
       "3  2011                 9.379522                  90.620478          4213   \n",
       "4  2012                 6.677600                  93.322400          3013   \n",
       "5  2013                 8.801788                  91.198212          4215   \n",
       "6  2014                 5.730111                  94.269889          2814   \n",
       "\n",
       "   Occupied House  \n",
       "0           36711  \n",
       "1           35916  \n",
       "2           41007  \n",
       "3           40704  \n",
       "4           42108  \n",
       "5           43673  \n",
       "6           46295  "
      ]
     },
     "execution_count": 26,
     "metadata": {},
     "output_type": "execute_result"
    }
   ],
   "source": [
    "distinct_years = sorted(list(denton_housing['year'].unique()))   \n",
    "\n",
    "# number of housing units which are  occupied.\n",
    "occupied = denton_housing[denton_housing['title_field'] == 'Occupied Housing Units'].sort_values(by=['year'])\n",
    "\n",
    "# number of housing units which are vacant.\n",
    "vacant = denton_housing[denton_housing['title_field'] == 'Vacant Housing Units'].sort_values(by=['year'])\n",
    "\n",
    "data = pd.DataFrame(columns=['year','Percent of Vacant House', 'Percent of Occupied House'])\n",
    "data['year'] = distinct_years\n",
    "data['Vacant House'] = vacant['value'].values\n",
    "data['Occupied House'] = occuped['value'].values\n",
    "data['Percent of Vacant House'] = [(data['Vacant House'][i] * 100) /\\\n",
    "                                           (data['Vacant House'][i] + data['Occupied House'][i])\\\n",
    "                                           for i in range(len(data))]\n",
    "data['Percent of Occupied House'] = [(data['Occupied House'][j] * 100) /\\\n",
    "                                           (data['Vacant House'][j] + data['Occupied House'][j])\\\n",
    "                                           for j in range(len(data))]\n",
    "data\n",
    "\n"
   ]
  },
  {
   "cell_type": "markdown",
   "metadata": {},
   "source": [
    "(3) (10 pts) Calculate and print the valued and years in which the highest number of housing units were vacant and occupied. Print the results in the following format:  \n",
    "\n",
    "                              Year\tValue\n",
    "\tVacant Housing Units\t  -----   -----\n",
    "\tOccupied Housing Units\t-----   -----"
   ]
  },
  {
   "cell_type": "code",
   "execution_count": 32,
   "metadata": {},
   "outputs": [
    {
     "data": {
      "text/html": [
       "<div>\n",
       "<style scoped>\n",
       "    .dataframe tbody tr th:only-of-type {\n",
       "        vertical-align: middle;\n",
       "    }\n",
       "\n",
       "    .dataframe tbody tr th {\n",
       "        vertical-align: top;\n",
       "    }\n",
       "\n",
       "    .dataframe thead th {\n",
       "        text-align: right;\n",
       "    }\n",
       "</style>\n",
       "<table border=\"1\" class=\"dataframe\">\n",
       "  <thead>\n",
       "    <tr style=\"text-align: right;\">\n",
       "      <th></th>\n",
       "      <th>title_field</th>\n",
       "      <th>year</th>\n",
       "      <th>value</th>\n",
       "    </tr>\n",
       "  </thead>\n",
       "  <tbody>\n",
       "    <tr>\n",
       "      <th>2</th>\n",
       "      <td>Occupied Housing Units</td>\n",
       "      <td>2014</td>\n",
       "      <td>46295</td>\n",
       "    </tr>\n",
       "  </tbody>\n",
       "</table>\n",
       "</div>"
      ],
      "text/plain": [
       "              title_field  year  value\n",
       "2  Occupied Housing Units  2014  46295"
      ]
     },
     "execution_count": 32,
     "metadata": {},
     "output_type": "execute_result"
    }
   ],
   "source": [
    "\n",
    "\n",
    "# the highest number of housing units which are Occupied = highest_occ_housing_units\n",
    "highest_occ_housing_units = max(denton_housing[denton_housing['title_field'] == 'Occupied Housing Units'].value)\n",
    "df = pd.DataFrame(occupied,columns=['title_field','year','value'])\n",
    "# pd.DataFrame(columns=['year','Percent of Vacant House', 'Percent of Occupied House'])\n",
    "occupied = occupied[occupied['value'] == highest_occ_housing_units]\n",
    "df"
   ]
  },
  {
   "cell_type": "code",
   "execution_count": 34,
   "metadata": {},
   "outputs": [
    {
     "data": {
      "text/html": [
       "<div>\n",
       "<style scoped>\n",
       "    .dataframe tbody tr th:only-of-type {\n",
       "        vertical-align: middle;\n",
       "    }\n",
       "\n",
       "    .dataframe tbody tr th {\n",
       "        vertical-align: top;\n",
       "    }\n",
       "\n",
       "    .dataframe thead th {\n",
       "        text-align: right;\n",
       "    }\n",
       "</style>\n",
       "<table border=\"1\" class=\"dataframe\">\n",
       "  <thead>\n",
       "    <tr style=\"text-align: right;\">\n",
       "      <th></th>\n",
       "      <th>title_field</th>\n",
       "      <th>year</th>\n",
       "      <th>value</th>\n",
       "    </tr>\n",
       "  </thead>\n",
       "  <tbody>\n",
       "    <tr>\n",
       "      <th>19</th>\n",
       "      <td>Vacant Housing Units</td>\n",
       "      <td>2008</td>\n",
       "      <td>4483</td>\n",
       "    </tr>\n",
       "  </tbody>\n",
       "</table>\n",
       "</div>"
      ],
      "text/plain": [
       "             title_field  year  value\n",
       "19  Vacant Housing Units  2008   4483"
      ]
     },
     "execution_count": 34,
     "metadata": {},
     "output_type": "execute_result"
    }
   ],
   "source": [
    "# the highest number of housing units which are vacant = highest_v_housing_units\n",
    "highest_v_housing_units = max(denton_housing[denton_housing['title_field'] == 'Vacant Housing Units'].value)\n",
    "df = pd.DataFrame(vacant,columns=['title_field','year','value'])\n",
    "vacant = vacant[vacant['value'] == highest_v_housing_units]\n",
    "df\n"
   ]
  },
  {
   "cell_type": "markdown",
   "metadata": {},
   "source": [
    "(4) (10 pts) Calculate the harmonic mean of the total housing units and print it out. You can find the information about harmonic mean here: https://ncalculators.com/statistics/harmonic-mean-calculator.htm"
   ]
  },
  {
   "cell_type": "code",
   "execution_count": 35,
   "metadata": {},
   "outputs": [
    {
     "name": "stdout",
     "output_type": "stream",
     "text": [
      "44398.28543969185\n"
     ]
    }
   ],
   "source": [
    "print(statistics.harmonic_mean(list(denton_housing[denton_housing['title_field'] == 'Total Housing Units'].value)))"
   ]
  },
  {
   "cell_type": "code",
   "execution_count": null,
   "metadata": {},
   "outputs": [],
   "source": []
  }
 ],
 "metadata": {
  "colab": {
   "authorship_tag": "ABX9TyOAjsNCkNulTpzgRQbHdy3f",
   "collapsed_sections": [],
   "include_colab_link": true,
   "name": "INFO5731_Assignment_One.ipynb",
   "provenance": []
  },
  "kernelspec": {
   "display_name": "Python 3",
   "language": "python",
   "name": "python3"
  },
  "language_info": {
   "codemirror_mode": {
    "name": "ipython",
    "version": 3
   },
   "file_extension": ".py",
   "mimetype": "text/x-python",
   "name": "python",
   "nbconvert_exporter": "python",
   "pygments_lexer": "ipython3",
   "version": "3.8.5"
  }
 },
 "nbformat": 4,
 "nbformat_minor": 1
}
