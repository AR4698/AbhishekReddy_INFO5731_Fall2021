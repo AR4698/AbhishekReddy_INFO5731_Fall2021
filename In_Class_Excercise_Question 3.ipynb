{
 "cells": [
  {
   "cell_type": "markdown",
   "metadata": {},
   "source": [
    "Question 3 (10 points): Write python code to collect 1000 articles from Google Scholar (https://scholar.google.com/), Microsoft Academic (https://academic.microsoft.com/home), or CiteSeerX (https://citeseerx.ist.psu.edu/index), or Semantic Scholar (https://www.semanticscholar.org/). \n",
    "\n",
    "The following information of the article needs to be collected:\n",
    "\n",
    "(1) Title\n",
    "\n",
    "(2) Venue/journal/conference being published\n",
    "\n",
    "(3) Year\n",
    "\n",
    "(4) Authors\n",
    "\n",
    "(5) Abstract"
   ]
  },
  {
   "cell_type": "code",
   "execution_count": 24,
   "metadata": {},
   "outputs": [],
   "source": [
    "from selenium import webdriver\n",
    "from selenium.webdriver.common.keys import Keys\n",
    "import pandas as pd\n",
    "from selenium.webdriver import ActionChains\n",
    "import time\n",
    "\n",
    "driver = webdriver.Chrome()\n",
    "driver.get('https://academic.microsoft.com/search?q=IEEE%20Access%20Data%20science&f=Composite(J.JId%3D2485537415)&orderBy=1')\n",
    "\n",
    "# for n in range(42):\n",
    "#     submit_button = driver.find_elements_by_xpath('//*[@id=\"load-more-trigger\"]')[0]\n",
    "#     ActionChains(driver).click(submit_button).perform()\n",
    "#     time.sleep(1)\n",
    "\n",
    "    \n",
    "# time.sleep(2) \n",
    "\n",
    "\n",
    "# ids = driver.find_elements_by_xpath(\"//*[contains(@data-review-id,'rw')]\")\n",
    "# comment_ids = []\n",
    "# for i in ids:\n",
    "#     comment_ids.append(i.get_attribute('data-review-id'))\n",
    "    \n",
    "# R_Title=[]\n",
    "# U_Name=[]\n",
    "# R_Star=[]\n",
    "# R_text=[]\n",
    "# R_P_Time=[]"
   ]
  },
  {
   "cell_type": "code",
   "execution_count": 8,
   "metadata": {},
   "outputs": [],
   "source": [
    "# import urllib.request\n",
    "# url = \"https://academic.microsoft.com/search?q=IEEE%20Access%20Data%20science&f=Composite(J.JId%3D2485537415)&orderBy=1\"\n",
    "# page = urllib.request.urlopen(url)"
   ]
  },
  {
   "cell_type": "code",
   "execution_count": 9,
   "metadata": {},
   "outputs": [
    {
     "name": "stdout",
     "output_type": "stream",
     "text": [
      "<!DOCTYPE html>\n",
      "<html lang=\"en\">\n",
      " <head>\n",
      "  <meta charset=\"utf-8\"/>\n",
      "  <title>\n",
      "   Microsoft Academic\n",
      "  </title>\n",
      "  <meta content=\"width=device-width, initial-scale=1.0, maximum-scale=2.0, user-scalable=yes\" name=\"viewport\"/>\n",
      "  <meta content=\"IE=edge\" http-equiv=\"X-UA-Compatible\"/>\n",
      "  <base href=\"/\"/>\n",
      "  <link href=\"https://microsoft.com\" rel=\"preconnect\"/>\n",
      "  <link href=\"https://microsoft.com/\" rel=\"dns-prefetch\"/>\n",
      "  <link href=\"/favicon.png?v=atsWqPdWG8gcBK2WtUTM_vyEjZT-KPDc8X8encPy-0Y\" rel=\"icon\" type=\"image/png\"/>\n",
      "  <link href=\"/favicon.png?v=atsWqPdWG8gcBK2WtUTM_vyEjZT-KPDc8X8encPy-0Y\" rel=\"shortcut icon\" type=\"image/png\"/>\n",
      "  <link href=\"/apple-touch-icon.png?v=lk9W0aw06r\" rel=\"apple-touch-icon\" sizes=\"144x144\"/>\n",
      "  <link href=\"/favicon-32x32.png?v=lk9W0aw06r\" rel=\"icon\" sizes=\"32x32\" type=\"image/png\"/>\n",
      "  <link href=\"/favicon-16x16.png?v=lk9W0aw06r\" rel=\"icon\" sizes=\"16x16\" type=\"image/png\"/>\n",
      "  <link href=\"/site.webmanifest?v=lk9W0aw06r\" rel=\"manifest\"/>\n",
      "  <link color=\"#5bbad5\" href=\"/safari-pinned-tab.svg?v=lk9W0aw06r\" rel=\"mask-icon\"/>\n",
      "  <link href=\"/favicon.ico?v=lk9W0aw06r\" rel=\"shortcut icon\"/>\n",
      "  <link as=\"image\" href=\"/img/mslogo.png\" rel=\"preload\"/>\n",
      "  <link href=\"/opensearch.xml\" rel=\"search\" title=\"Microsoft Academic\" type=\"application/opensearchdescription+xml\"/>\n",
      "  <meta content=\"Microsoft Academic\" name=\"apple-mobile-web-app-title\"/>\n",
      "  <meta content=\"Microsoft Academic\" name=\"application-name\"/>\n",
      "  <meta content=\"#da532c\" name=\"msapplication-TileColor\"/>\n",
      "  <meta content=\"#ffffff\" name=\"theme-color\"/>\n",
      "  <link href=\"https://i.s-microsoft.com/fonts/segoe-ui/west-european/normal/latest.css\" rel=\"stylesheet\" type=\"text/css\"/>\n",
      "  <link href=\"https://i.s-microsoft.com/fonts/segoe-ui/west-european/semibold/latest.css\" rel=\"stylesheet\" type=\"text/css\"/>\n",
      "  <!-- <link href=\"https://i.s-microsoft.com/fonts/segoe-ui/west-european/bold/latest.css\" rel=\"stylesheet\" type=\"text/css\" /> -->\n",
      " </head>\n",
      " <body>\n",
      "  <div class=\"main\">\n",
      "   <div class=\"splash\">\n",
      "    <div class=\"loader\">\n",
      "     <span class=\"loader-block\">\n",
      "     </span>\n",
      "     <span class=\"loader-block\">\n",
      "     </span>\n",
      "     <span class=\"loader-block\">\n",
      "     </span>\n",
      "     <span class=\"loader-block\">\n",
      "     </span>\n",
      "     <span class=\"loader-block\">\n",
      "     </span>\n",
      "     <span class=\"loader-block\">\n",
      "     </span>\n",
      "     <span class=\"loader-block\">\n",
      "     </span>\n",
      "     <span class=\"loader-block\">\n",
      "     </span>\n",
      "     <span class=\"loader-block\">\n",
      "     </span>\n",
      "    </div>\n",
      "   </div>\n",
      "  </div>\n",
      "  <script>\n",
      "   function setGlobalVariable(variableName, configValue, devValue) {\r\n",
      "            window[variableName] = configValue;\r\n",
      "        }\r\n",
      "            \r\n",
      "        setGlobalVariable('__ADCLIENTID__', 'f9407085-34b5-4565-98a2-a37a727a880c', '');\r\n",
      "        setGlobalVariable('__ADEDITPOLICYNAME__', 'B2C_1A_ProfileEdit', '');\r\n",
      "        setGlobalVariable('__ADPOLICYNAME__', 'B2C_1A_signup_signin', '');\r\n",
      "        setGlobalVariable('__ADREDIRECTURI__', 'https://academic.microsoft.com', '');\r\n",
      "        setGlobalVariable('__ADSCOPES__', 'openid https://microsoftacademicprod.onmicrosoft.com/v3/read', '');\r\n",
      "        setGlobalVariable('__ADTENANTNAME__', 'microsoftacademicprod.onmicrosoft.com', '');\r\n",
      "        setGlobalVariable('__APPINSIGHTSKEY__', '7f03b9c4-111a-423a-b97f-fb6d3e0fd142', '');\r\n",
      "        setGlobalVariable('__AZUREMAPSKEY__', '7XY8ndrvRSBQ9mcPOPEQlpJVAg_QjyPILG0agMp5PuE', '');\r\n",
      "        setGlobalVariable('__ENVIRONMENT__', 'production', '');\r\n",
      "        setGlobalVariable('__FACEBOOKAPPID__', '196381300764902', '');\r\n",
      "        setGlobalVariable('IsDebugEnabled', 'false'=='true', false);\r\n",
      "        setGlobalVariable('IsSiteReadOnly', 'false'=='true', ''=='true');\r\n",
      "        setGlobalVariable('__TENANTPREFIX__', 'microsoftacademicprod', '');\r\n",
      "\r\n",
      "        function addPolyfillToSupportIE() {\r\n",
      "            var ua = window.navigator.userAgent;\r\n",
      "            window.IsBrowserIE = ua.indexOf('MSIE ')>=0; // IE <= 10\r\n",
      "            if (!window.IsBrowserIE) {\r\n",
      "                window.IsBrowserIE = ua.indexOf('Trident/')>=0;  // IE 11              \r\n",
      "            }\r\n",
      "            if (window.IsBrowserIE) {\r\n",
      "\t            var scr = document.createElement( 'script' );\r\n",
      "\t            scr.setAttribute( 'crossorigin', 'anonymous' );\r\n",
      "\t            scr.setAttribute( 'src', 'https://polyfill.io/v3/polyfill.min.js?features=Element.prototype.remove');\r\n",
      "\t            document.body.appendChild(scr);\r\n",
      "            }\r\n",
      "        }\r\n",
      "        addPolyfillToSupportIE();\n",
      "  </script>\n",
      "  <script src=\"/dist/main.66dc3a7dffeb53ed4d49.build.js\">\n",
      "  </script>\n",
      "  <script src=\"/dist/vendors~main.8fcd3ac72fc1ceddda2a.js\">\n",
      "  </script>\n",
      " </body>\n",
      "</html>\n",
      "\n"
     ]
    }
   ],
   "source": [
    "# from bs4 import BeautifulSoup\n",
    "# soup = BeautifulSoup(page)\n",
    "# print(soup.prettify())"
   ]
  },
  {
   "cell_type": "code",
   "execution_count": 11,
   "metadata": {},
   "outputs": [
    {
     "data": {
      "text/plain": [
       "<title>Microsoft Academic</title>"
      ]
     },
     "execution_count": 11,
     "metadata": {},
     "output_type": "execute_result"
    }
   ],
   "source": [
    "# soup.title"
   ]
  },
  {
   "cell_type": "code",
   "execution_count": 22,
   "metadata": {},
   "outputs": [],
   "source": [
    "# k=soup.find('div',class_=\"primary_paper\")"
   ]
  },
  {
   "cell_type": "code",
   "execution_count": 53,
   "metadata": {},
   "outputs": [
    {
     "ename": "SyntaxError",
     "evalue": "invalid syntax (<ipython-input-53-65b9e59f7efb>, line 3)",
     "output_type": "error",
     "traceback": [
      "\u001b[1;36m  File \u001b[1;32m\"<ipython-input-53-65b9e59f7efb>\"\u001b[1;36m, line \u001b[1;32m3\u001b[0m\n\u001b[1;33m    Author=driver.findelements(By.xpath('//div[@class='au-target ma-author-string-collection']))\u001b[0m\n\u001b[1;37m                                                       ^\u001b[0m\n\u001b[1;31mSyntaxError\u001b[0m\u001b[1;31m:\u001b[0m invalid syntax\n"
     ]
    }
   ],
   "source": [
    "# k_t=k.find_all()\n",
    "\n",
    "big = driver.findElement(By.xpath(\"//div[contains(@class,'au-target ma-author-string-collection')]\"))[i]\n",
    "medium = big.findElement(By.xpath(\".//div[contains(@class,'authors')]\"))\n",
    "small = medium.findElement(By.xpath(\".//div[contains(@class,'author-item au-target')]\"))[0]/a.text"
   ]
  },
  {
   "cell_type": "code",
   "execution_count": 65,
   "metadata": {},
   "outputs": [],
   "source": [
    "Titles=[]\n",
    "Journals=[]\n",
    "Years=[]\n",
    "Authors=[]\n",
    "for i in range(10):\n",
    "    x='title au-target'\n",
    "    y='publication au-target'\n",
    "    z='au-target ma-author-string-collection'\n",
    "    Review_Title = driver.find_elements_by_xpath('//*[@class=\"'+x+'\"]/span')[i].text\n",
    "    Titles.append(Review_Title)\n",
    "    Journal=driver.find_elements_by_xpath('//*[@class=\"'+y+'\"]/span[2]/em')[i].text\n",
    "    Journals.append(Journal)\n",
    "    Year=driver.find_elements_by_xpath('//*[@class=\"'+y+'\"]/span[1]')[i].text\n",
    "    Years.append(Year)\n",
    "    big = driver.find_elements_by_xpath(\"//div[contains(@class,'au-target ma-author-string-collection')]\")[i]\n",
    "    medium = big.find_elements_by_xpath(\".//div[contains(@class,'authors')]/div/a\")\n",
    "    Authors.append(medium)\n",
    "   \n",
    "    \n",
    "    \n",
    "# //*[@class='title au-target']/span"
   ]
  },
  {
   "cell_type": "code",
   "execution_count": 66,
   "metadata": {},
   "outputs": [
    {
     "data": {
      "text/plain": [
       "[[<selenium.webdriver.remote.webelement.WebElement (session=\"6993f4da6fe07db089d141dcebb812b8\", element=\"9685bc35-362f-46a2-9f09-108f01976a09\")>,\n",
       "  <selenium.webdriver.remote.webelement.WebElement (session=\"6993f4da6fe07db089d141dcebb812b8\", element=\"51d8e150-fbea-4e30-b9b2-6bd1adb1d0bf\")>,\n",
       "  <selenium.webdriver.remote.webelement.WebElement (session=\"6993f4da6fe07db089d141dcebb812b8\", element=\"06b21890-67f3-423d-88e5-1850b6ab66e3\")>,\n",
       "  <selenium.webdriver.remote.webelement.WebElement (session=\"6993f4da6fe07db089d141dcebb812b8\", element=\"4b927363-0eeb-4cff-8f67-921f971e4c86\")>,\n",
       "  <selenium.webdriver.remote.webelement.WebElement (session=\"6993f4da6fe07db089d141dcebb812b8\", element=\"e74049de-9818-43ec-9137-650a974980eb\")>,\n",
       "  <selenium.webdriver.remote.webelement.WebElement (session=\"6993f4da6fe07db089d141dcebb812b8\", element=\"59fbfbed-5a0c-4938-b054-0255840ef887\")>,\n",
       "  <selenium.webdriver.remote.webelement.WebElement (session=\"6993f4da6fe07db089d141dcebb812b8\", element=\"7f80cd5f-ce76-4b11-90bd-da7a35848fc9\")>,\n",
       "  <selenium.webdriver.remote.webelement.WebElement (session=\"6993f4da6fe07db089d141dcebb812b8\", element=\"daebd23e-a121-4baf-94a5-53cfa8783568\")>],\n",
       " [<selenium.webdriver.remote.webelement.WebElement (session=\"6993f4da6fe07db089d141dcebb812b8\", element=\"50e6f708-347a-4202-98f0-713d458afd9b\")>,\n",
       "  <selenium.webdriver.remote.webelement.WebElement (session=\"6993f4da6fe07db089d141dcebb812b8\", element=\"2e2db625-d1c8-42c7-b094-856cbc3a7456\")>,\n",
       "  <selenium.webdriver.remote.webelement.WebElement (session=\"6993f4da6fe07db089d141dcebb812b8\", element=\"494af036-aabb-4be3-b418-a1ead97e35e0\")>,\n",
       "  <selenium.webdriver.remote.webelement.WebElement (session=\"6993f4da6fe07db089d141dcebb812b8\", element=\"39848eb1-c330-43c4-a0d7-3931bb8ee7af\")>,\n",
       "  <selenium.webdriver.remote.webelement.WebElement (session=\"6993f4da6fe07db089d141dcebb812b8\", element=\"acab61e3-4b35-4f0f-9bb3-cde995f61ac8\")>,\n",
       "  <selenium.webdriver.remote.webelement.WebElement (session=\"6993f4da6fe07db089d141dcebb812b8\", element=\"04937604-a199-4a4b-922d-29b697ead702\")>],\n",
       " [<selenium.webdriver.remote.webelement.WebElement (session=\"6993f4da6fe07db089d141dcebb812b8\", element=\"2e1c44bb-00b8-426e-8e6f-0f111155c48c\")>,\n",
       "  <selenium.webdriver.remote.webelement.WebElement (session=\"6993f4da6fe07db089d141dcebb812b8\", element=\"9369b38d-8506-47d9-b369-0ad734e4b35a\")>,\n",
       "  <selenium.webdriver.remote.webelement.WebElement (session=\"6993f4da6fe07db089d141dcebb812b8\", element=\"8cd57e35-8267-4c0d-8535-5d3620cc587b\")>,\n",
       "  <selenium.webdriver.remote.webelement.WebElement (session=\"6993f4da6fe07db089d141dcebb812b8\", element=\"1df01812-c6f3-4f4e-9bde-6b9d1d00c1c8\")>,\n",
       "  <selenium.webdriver.remote.webelement.WebElement (session=\"6993f4da6fe07db089d141dcebb812b8\", element=\"88a4455a-2ece-49d9-bd48-39bc56812cec\")>,\n",
       "  <selenium.webdriver.remote.webelement.WebElement (session=\"6993f4da6fe07db089d141dcebb812b8\", element=\"ccf495c1-586f-40a5-a883-28840ab7e393\")>,\n",
       "  <selenium.webdriver.remote.webelement.WebElement (session=\"6993f4da6fe07db089d141dcebb812b8\", element=\"13015edc-5ae1-4172-a25b-b28a09de20bf\")>,\n",
       "  <selenium.webdriver.remote.webelement.WebElement (session=\"6993f4da6fe07db089d141dcebb812b8\", element=\"243c14ad-304a-47c2-a81d-89e0497cf505\")>,\n",
       "  <selenium.webdriver.remote.webelement.WebElement (session=\"6993f4da6fe07db089d141dcebb812b8\", element=\"9b0cddc3-6630-4557-a115-64b41b6c99d5\")>,\n",
       "  <selenium.webdriver.remote.webelement.WebElement (session=\"6993f4da6fe07db089d141dcebb812b8\", element=\"5b7cb6ae-9b01-4408-a352-788aabfa4058\")>],\n",
       " [<selenium.webdriver.remote.webelement.WebElement (session=\"6993f4da6fe07db089d141dcebb812b8\", element=\"0541afe3-ffa9-4465-bf26-dac638ff338f\")>,\n",
       "  <selenium.webdriver.remote.webelement.WebElement (session=\"6993f4da6fe07db089d141dcebb812b8\", element=\"65e3ade3-b4c0-4a1f-b68d-e775f777acf7\")>,\n",
       "  <selenium.webdriver.remote.webelement.WebElement (session=\"6993f4da6fe07db089d141dcebb812b8\", element=\"48f6686a-d4e6-4ced-bc77-a9c17211d0bb\")>,\n",
       "  <selenium.webdriver.remote.webelement.WebElement (session=\"6993f4da6fe07db089d141dcebb812b8\", element=\"faf8f8a0-7773-44ad-afaa-e33cdd7dc522\")>,\n",
       "  <selenium.webdriver.remote.webelement.WebElement (session=\"6993f4da6fe07db089d141dcebb812b8\", element=\"50ed00b4-1618-45d6-8259-357dd35a42c5\")>,\n",
       "  <selenium.webdriver.remote.webelement.WebElement (session=\"6993f4da6fe07db089d141dcebb812b8\", element=\"24c36678-32fc-4be6-b2c2-d178355d864c\")>,\n",
       "  <selenium.webdriver.remote.webelement.WebElement (session=\"6993f4da6fe07db089d141dcebb812b8\", element=\"e804be4a-b37b-4ef2-b863-43ffce09e646\")>,\n",
       "  <selenium.webdriver.remote.webelement.WebElement (session=\"6993f4da6fe07db089d141dcebb812b8\", element=\"fa6e72b7-cdef-4273-a35e-8d84fe0f7549\")>],\n",
       " [<selenium.webdriver.remote.webelement.WebElement (session=\"6993f4da6fe07db089d141dcebb812b8\", element=\"4d9e4229-5f97-49b4-b7c2-3c0a854813bb\")>,\n",
       "  <selenium.webdriver.remote.webelement.WebElement (session=\"6993f4da6fe07db089d141dcebb812b8\", element=\"6bea5825-f2ca-40b4-bc4b-8b9ff4d8a32f\")>,\n",
       "  <selenium.webdriver.remote.webelement.WebElement (session=\"6993f4da6fe07db089d141dcebb812b8\", element=\"a7fecd1a-57b3-49fb-a1cd-134d892808a5\")>,\n",
       "  <selenium.webdriver.remote.webelement.WebElement (session=\"6993f4da6fe07db089d141dcebb812b8\", element=\"6962124c-69e6-43e3-bad7-ec274cb9ce06\")>,\n",
       "  <selenium.webdriver.remote.webelement.WebElement (session=\"6993f4da6fe07db089d141dcebb812b8\", element=\"efe62a55-00c9-430d-bffd-e725b60af022\")>,\n",
       "  <selenium.webdriver.remote.webelement.WebElement (session=\"6993f4da6fe07db089d141dcebb812b8\", element=\"bdbf3ef0-a3f8-4784-a846-906f035de332\")>],\n",
       " [<selenium.webdriver.remote.webelement.WebElement (session=\"6993f4da6fe07db089d141dcebb812b8\", element=\"b15fa7da-d0a5-4089-9f26-a1f2eb0aa870\")>,\n",
       "  <selenium.webdriver.remote.webelement.WebElement (session=\"6993f4da6fe07db089d141dcebb812b8\", element=\"c564459d-4ab5-4fb8-b4dd-00c9eb5cd92c\")>,\n",
       "  <selenium.webdriver.remote.webelement.WebElement (session=\"6993f4da6fe07db089d141dcebb812b8\", element=\"f46263a4-400e-4062-b5a7-d76ed975cd99\")>,\n",
       "  <selenium.webdriver.remote.webelement.WebElement (session=\"6993f4da6fe07db089d141dcebb812b8\", element=\"9b3f55c6-afed-4911-be0e-325fe409e36c\")>,\n",
       "  <selenium.webdriver.remote.webelement.WebElement (session=\"6993f4da6fe07db089d141dcebb812b8\", element=\"07916c6d-7ee5-4af6-911f-0632a01521bc\")>,\n",
       "  <selenium.webdriver.remote.webelement.WebElement (session=\"6993f4da6fe07db089d141dcebb812b8\", element=\"2849796d-9334-4f85-85a1-69c3ba6db022\")>],\n",
       " [<selenium.webdriver.remote.webelement.WebElement (session=\"6993f4da6fe07db089d141dcebb812b8\", element=\"ec41b315-217e-4a2e-a7a0-c8072446acc1\")>,\n",
       "  <selenium.webdriver.remote.webelement.WebElement (session=\"6993f4da6fe07db089d141dcebb812b8\", element=\"d6d7f20d-8911-490c-83ca-2041b9fc602e\")>,\n",
       "  <selenium.webdriver.remote.webelement.WebElement (session=\"6993f4da6fe07db089d141dcebb812b8\", element=\"93df4605-4b11-471e-9199-fa174f1c2b7b\")>,\n",
       "  <selenium.webdriver.remote.webelement.WebElement (session=\"6993f4da6fe07db089d141dcebb812b8\", element=\"eda8f9f1-e957-42ca-a48f-fd77f4c7c747\")>,\n",
       "  <selenium.webdriver.remote.webelement.WebElement (session=\"6993f4da6fe07db089d141dcebb812b8\", element=\"627436cb-ae2e-4030-9d95-37c16e0f1d7f\")>,\n",
       "  <selenium.webdriver.remote.webelement.WebElement (session=\"6993f4da6fe07db089d141dcebb812b8\", element=\"6d8980ba-58fd-4836-90a2-46b09701a5af\")>,\n",
       "  <selenium.webdriver.remote.webelement.WebElement (session=\"6993f4da6fe07db089d141dcebb812b8\", element=\"095dd79b-81a3-4b16-98d3-a7331597c93c\")>,\n",
       "  <selenium.webdriver.remote.webelement.WebElement (session=\"6993f4da6fe07db089d141dcebb812b8\", element=\"143796af-915e-49c4-817c-e2f809eac1ee\")>],\n",
       " [<selenium.webdriver.remote.webelement.WebElement (session=\"6993f4da6fe07db089d141dcebb812b8\", element=\"39dc615d-c2f9-4a0f-ab98-4684d0f53672\")>,\n",
       "  <selenium.webdriver.remote.webelement.WebElement (session=\"6993f4da6fe07db089d141dcebb812b8\", element=\"10708f14-af81-4be0-8b66-78e7ef5e3083\")>],\n",
       " [<selenium.webdriver.remote.webelement.WebElement (session=\"6993f4da6fe07db089d141dcebb812b8\", element=\"a4e89170-2c97-4e86-af72-1a4def1f2e2e\")>,\n",
       "  <selenium.webdriver.remote.webelement.WebElement (session=\"6993f4da6fe07db089d141dcebb812b8\", element=\"ecb7e889-719d-4c06-8a19-46449318b08b\")>,\n",
       "  <selenium.webdriver.remote.webelement.WebElement (session=\"6993f4da6fe07db089d141dcebb812b8\", element=\"fb29320d-441c-4a94-989c-11493a57d353\")>,\n",
       "  <selenium.webdriver.remote.webelement.WebElement (session=\"6993f4da6fe07db089d141dcebb812b8\", element=\"3c83ad49-8b16-4115-b448-76bee5995822\")>,\n",
       "  <selenium.webdriver.remote.webelement.WebElement (session=\"6993f4da6fe07db089d141dcebb812b8\", element=\"03975949-cf26-4fe7-ac11-0720c0e80adc\")>,\n",
       "  <selenium.webdriver.remote.webelement.WebElement (session=\"6993f4da6fe07db089d141dcebb812b8\", element=\"0df416f4-ff46-4b8b-b71f-5bcb62f95393\")>,\n",
       "  <selenium.webdriver.remote.webelement.WebElement (session=\"6993f4da6fe07db089d141dcebb812b8\", element=\"eb1645f2-47d9-4250-9ad5-7a6cf98fdb90\")>,\n",
       "  <selenium.webdriver.remote.webelement.WebElement (session=\"6993f4da6fe07db089d141dcebb812b8\", element=\"ef692194-7f34-4d0e-84d7-12a72d09106f\")>,\n",
       "  <selenium.webdriver.remote.webelement.WebElement (session=\"6993f4da6fe07db089d141dcebb812b8\", element=\"39579da7-2575-40c0-ac4c-28fb5848adec\")>,\n",
       "  <selenium.webdriver.remote.webelement.WebElement (session=\"6993f4da6fe07db089d141dcebb812b8\", element=\"75b9b0fa-f91a-489b-bda1-981517d365ce\")>],\n",
       " [<selenium.webdriver.remote.webelement.WebElement (session=\"6993f4da6fe07db089d141dcebb812b8\", element=\"bff14c11-58d8-4cc8-9f5b-8172662d35c6\")>,\n",
       "  <selenium.webdriver.remote.webelement.WebElement (session=\"6993f4da6fe07db089d141dcebb812b8\", element=\"86a668c3-746e-48ac-9a98-1750b1186d57\")>,\n",
       "  <selenium.webdriver.remote.webelement.WebElement (session=\"6993f4da6fe07db089d141dcebb812b8\", element=\"66035616-a6e3-4f62-85cd-cf19b4d07369\")>,\n",
       "  <selenium.webdriver.remote.webelement.WebElement (session=\"6993f4da6fe07db089d141dcebb812b8\", element=\"a56fb40a-3b4b-49b2-9e3b-0fe9479bb91a\")>,\n",
       "  <selenium.webdriver.remote.webelement.WebElement (session=\"6993f4da6fe07db089d141dcebb812b8\", element=\"3e7ce194-e47c-4875-9da6-9183f19e86ab\")>,\n",
       "  <selenium.webdriver.remote.webelement.WebElement (session=\"6993f4da6fe07db089d141dcebb812b8\", element=\"66c7468d-56ef-47c1-a979-74e961fa86ce\")>,\n",
       "  <selenium.webdriver.remote.webelement.WebElement (session=\"6993f4da6fe07db089d141dcebb812b8\", element=\"959013ca-8794-4101-8b8d-b30fcd5f11d2\")>,\n",
       "  <selenium.webdriver.remote.webelement.WebElement (session=\"6993f4da6fe07db089d141dcebb812b8\", element=\"3e1cfe76-731a-4cc5-b669-5bc2dea22180\")>]]"
      ]
     },
     "execution_count": 66,
     "metadata": {},
     "output_type": "execute_result"
    }
   ],
   "source": [
    "Authors"
   ]
  },
  {
   "cell_type": "code",
   "execution_count": null,
   "metadata": {},
   "outputs": [],
   "source": []
  }
 ],
 "metadata": {
  "kernelspec": {
   "display_name": "Python 3",
   "language": "python",
   "name": "python3"
  },
  "language_info": {
   "codemirror_mode": {
    "name": "ipython",
    "version": 3
   },
   "file_extension": ".py",
   "mimetype": "text/x-python",
   "name": "python",
   "nbconvert_exporter": "python",
   "pygments_lexer": "ipython3",
   "version": "3.8.5"
  }
 },
 "nbformat": 4,
 "nbformat_minor": 4
}
