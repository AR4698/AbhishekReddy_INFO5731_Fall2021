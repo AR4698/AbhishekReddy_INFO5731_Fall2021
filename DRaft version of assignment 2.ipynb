{
 "cells": [
  {
   "cell_type": "markdown",
   "metadata": {},
   "source": [
    "(20 points). Write a python program to collect text data from **either of the following sources** and save the data into a **csv file**:\n",
    " (2) Collect all User Reviews of the film [Shang-Chi and the Legend of the Ten Rings](https://www.imdb.com/title/tt9376612/reviews?ref_=tt_sa_3) from IMDB."
   ]
  },
  {
   "cell_type": "code",
   "execution_count": 1,
   "metadata": {},
   "outputs": [],
   "source": [
    "# Write your code here\n",
    "from selenium import webdriver\n",
    "from selenium.webdriver.common.keys import Keys\n",
    "import pandas as pd\n",
    "from selenium.webdriver import ActionChains\n",
    "import time\n",
    "\n",
    "driver = webdriver.Chrome()\n",
    "driver.get('https://www.imdb.com/title/tt9376612/reviews?ref_=tt_sa_3')\n",
    "\n",
    "for n in range(48):\n",
    "    submit_button = driver.find_elements_by_xpath('//*[@id=\"load-more-trigger\"]')[0]\n",
    "    ActionChains(driver).click(submit_button).perform()\n",
    "    time.sleep(1)\n",
    "\n",
    "    \n",
    "time.sleep(2) \n",
    "\n",
    "\n",
    "ids = driver.find_elements_by_xpath(\"//*[contains(@data-review-id,'rw')]\")\n",
    "comment_ids = []\n",
    "for i in ids:\n",
    "    comment_ids.append(i.get_attribute('data-review-id'))\n",
    "    \n",
    "R_Title=[]\n",
    "U_Name=[]\n",
    "R_Star=[]\n",
    "R_text=[]\n",
    "R_P_Time=[]\n",
    "\n",
    "\n"
   ]
  },
  {
   "cell_type": "code",
   "execution_count": 2,
   "metadata": {},
   "outputs": [
    {
     "name": "stdout",
     "output_type": "stream",
     "text": [
      "1225\n"
     ]
    }
   ],
   "source": [
    "print(len(comment_ids)) # Out of 1244 reviews "
   ]
  },
  {
   "cell_type": "code",
   "execution_count": 3,
   "metadata": {},
   "outputs": [
    {
     "name": "stdout",
     "output_type": "stream",
     "text": [
      "rw7299041\n"
     ]
    }
   ],
   "source": [
    "print(comment_ids[10])"
   ]
  },
  {
   "cell_type": "code",
   "execution_count": 4,
   "metadata": {},
   "outputs": [],
   "source": [
    "for x in range(len(comment_ids)):\n",
    "    \n",
    "    #Extract dates from for each user on a page\n",
    "    \n",
    "    # ONE\n",
    "    try:\n",
    "        Review_Title = driver.find_elements_by_xpath('//*[@data-review-id=\"' + comment_ids[x] + '\"]/div/div/a')[0].text\n",
    "        #print(Review_Title)\n",
    "        R_Title.append(Review_Title)\n",
    "    except (IndexError,AttributeError):\n",
    "        Review_Title='null'\n",
    "        #print(Review_Title)\n",
    "        R_Title.append(Review_Title)\n",
    "    \n",
    "    \n",
    "    \n",
    "    # TWO\n",
    "        \n",
    "    try:\n",
    "        User_Name = driver.find_elements_by_xpath('//*[@data-review-id=\"' + comment_ids[x] + '\"]/div/div/div[2]/span[1]/a')[0].text\n",
    "        #print(User_Name)\n",
    "        U_Name.append(User_Name)\n",
    "    except (IndexError,AttributeError):\n",
    "        User_Name='null'\n",
    "        #print(User_Name)\n",
    "        U_Name.append(User_Name)\n",
    "    \n",
    "    \n",
    "    \n",
    "    # THREE\n",
    "    \n",
    "    try:\n",
    "        Star=driver.find_elements_by_xpath('//*[@data-review-id=\"' + comment_ids[x] + '\"]/div/div/div/span/span[1]')[0].text\n",
    "        #print(Star)\n",
    "        R_Star.append(Star)\n",
    "    except (IndexError,AttributeError):\n",
    "        Star='null'\n",
    "        #print(Star)\n",
    "        R_Star.append(Star)\n",
    "        \n",
    "    \n",
    "    \n",
    "    # FOUR\n",
    "    \n",
    "    try:\n",
    "        Review_Text=driver.find_elements_by_xpath('//*[@data-review-id=\"' + comment_ids[x] + '\"]/div/div/div[3]/div[1]')[0].text\n",
    "        #print(Review_Text)\n",
    "        R_text.append(Review_Text)\n",
    "    except (IndexError,AttributeError):\n",
    "        Review_Text='null'\n",
    "        #print(Review_Text)\n",
    "        R_text.append(Review_Text)\n",
    "        \n",
    "    \n",
    "    \n",
    "    # FIVE\n",
    "    \n",
    "    try:\n",
    "        Review_Posted_Time=driver.find_elements_by_xpath('//*[@data-review-id=\"' + comment_ids[x] + '\"]/div/div/div[2]/span[2]')[0].text\n",
    "        #print(Review_Posted_Time)\n",
    "        R_P_Time.append(Review_Posted_Time)\n",
    "    except (IndexError,AttributeError):\n",
    "        Review_Posted_Time='null'\n",
    "        #print(Review_Posted_Time)\n",
    "        R_P_Time.append(Review_Posted_Time)\n",
    "        \n",
    "    \n"
   ]
  },
  {
   "cell_type": "code",
   "execution_count": 5,
   "metadata": {},
   "outputs": [
    {
     "data": {
      "text/html": [
       "<div>\n",
       "<style scoped>\n",
       "    .dataframe tbody tr th:only-of-type {\n",
       "        vertical-align: middle;\n",
       "    }\n",
       "\n",
       "    .dataframe tbody tr th {\n",
       "        vertical-align: top;\n",
       "    }\n",
       "\n",
       "    .dataframe thead th {\n",
       "        text-align: right;\n",
       "    }\n",
       "</style>\n",
       "<table border=\"1\" class=\"dataframe\">\n",
       "  <thead>\n",
       "    <tr style=\"text-align: right;\">\n",
       "      <th></th>\n",
       "      <th>User Name</th>\n",
       "      <th>Star</th>\n",
       "      <th>Review Title</th>\n",
       "      <th>Review Text</th>\n",
       "      <th>Review Posted Time</th>\n",
       "    </tr>\n",
       "  </thead>\n",
       "  <tbody>\n",
       "    <tr>\n",
       "      <th>0</th>\n",
       "      <td>dominicwood-14504</td>\n",
       "      <td>9</td>\n",
       "      <td>Who knew a superhero film could be so beautiful?</td>\n",
       "      <td>I'll start by saying that if you're looking fo...</td>\n",
       "      <td>4 September 2021</td>\n",
       "    </tr>\n",
       "    <tr>\n",
       "      <th>1</th>\n",
       "      <td>laviniadallam</td>\n",
       "      <td>10</td>\n",
       "      <td>something unique and fresh</td>\n",
       "      <td>After 10 years of almost every movie being.arm...</td>\n",
       "      <td>2 September 2021</td>\n",
       "    </tr>\n",
       "    <tr>\n",
       "      <th>2</th>\n",
       "      <td>Radio-1s_Mr-MovieMad-Ami_104-1FM</td>\n",
       "      <td>9</td>\n",
       "      <td>Crouching Tiger, Hidden MARVEL . . . And So MU...</td>\n",
       "      <td>A -BIG- Screen Mini Review. Viewed Sept.05, 20...</td>\n",
       "      <td>8 September 2021</td>\n",
       "    </tr>\n",
       "    <tr>\n",
       "      <th>3</th>\n",
       "      <td>mhatreritesh</td>\n",
       "      <td>9</td>\n",
       "      <td>It's a Visual treat</td>\n",
       "      <td>Perfect Fantasy film to watch with full family...</td>\n",
       "      <td>4 September 2021</td>\n",
       "    </tr>\n",
       "    <tr>\n",
       "      <th>4</th>\n",
       "      <td>nishantsalhotrans</td>\n",
       "      <td>10</td>\n",
       "      <td>Best non-avengers MCU movie</td>\n",
       "      <td>Keeping it short. This movie had it all. Great...</td>\n",
       "      <td>6 September 2021</td>\n",
       "    </tr>\n",
       "    <tr>\n",
       "      <th>...</th>\n",
       "      <td>...</td>\n",
       "      <td>...</td>\n",
       "      <td>...</td>\n",
       "      <td>...</td>\n",
       "      <td>...</td>\n",
       "    </tr>\n",
       "    <tr>\n",
       "      <th>1220</th>\n",
       "      <td>reemtherat</td>\n",
       "      <td>9</td>\n",
       "      <td>My eyes were blessed</td>\n",
       "      <td>Tony leung I will no longer be a minor in a fe...</td>\n",
       "      <td>11 September 2021</td>\n",
       "    </tr>\n",
       "    <tr>\n",
       "      <th>1221</th>\n",
       "      <td>jlawnewbie</td>\n",
       "      <td>7</td>\n",
       "      <td>Solid movie overall- just lacking in some parts.</td>\n",
       "      <td>I thought that this movie was pretty good. I w...</td>\n",
       "      <td>11 September 2021</td>\n",
       "    </tr>\n",
       "    <tr>\n",
       "      <th>1222</th>\n",
       "      <td>hillailonen</td>\n",
       "      <td>9</td>\n",
       "      <td>cried like a baby</td>\n",
       "      <td>One of the best mcu movies tbh I really liked ...</td>\n",
       "      <td>11 September 2021</td>\n",
       "    </tr>\n",
       "    <tr>\n",
       "      <th>1223</th>\n",
       "      <td>saadanathan</td>\n",
       "      <td>7</td>\n",
       "      <td>Really enjoyable film 7/10</td>\n",
       "      <td>Shang - Chi is the new hero of the MCU and eve...</td>\n",
       "      <td>11 September 2021</td>\n",
       "    </tr>\n",
       "    <tr>\n",
       "      <th>1224</th>\n",
       "      <td>Aris25</td>\n",
       "      <td>7</td>\n",
       "      <td>Honestly, better than I expected!</td>\n",
       "      <td>null</td>\n",
       "      <td>11 September 2021</td>\n",
       "    </tr>\n",
       "  </tbody>\n",
       "</table>\n",
       "<p>1225 rows × 5 columns</p>\n",
       "</div>"
      ],
      "text/plain": [
       "                             User Name Star  \\\n",
       "0                    dominicwood-14504    9   \n",
       "1                        laviniadallam   10   \n",
       "2     Radio-1s_Mr-MovieMad-Ami_104-1FM    9   \n",
       "3                         mhatreritesh    9   \n",
       "4                    nishantsalhotrans   10   \n",
       "...                                ...  ...   \n",
       "1220                        reemtherat    9   \n",
       "1221                        jlawnewbie    7   \n",
       "1222                       hillailonen    9   \n",
       "1223                       saadanathan    7   \n",
       "1224                            Aris25    7   \n",
       "\n",
       "                                           Review Title  \\\n",
       "0      Who knew a superhero film could be so beautiful?   \n",
       "1                            something unique and fresh   \n",
       "2     Crouching Tiger, Hidden MARVEL . . . And So MU...   \n",
       "3                                   It's a Visual treat   \n",
       "4                           Best non-avengers MCU movie   \n",
       "...                                                 ...   \n",
       "1220                               My eyes were blessed   \n",
       "1221   Solid movie overall- just lacking in some parts.   \n",
       "1222                                  cried like a baby   \n",
       "1223                         Really enjoyable film 7/10   \n",
       "1224                  Honestly, better than I expected!   \n",
       "\n",
       "                                            Review Text Review Posted Time  \n",
       "0     I'll start by saying that if you're looking fo...   4 September 2021  \n",
       "1     After 10 years of almost every movie being.arm...   2 September 2021  \n",
       "2     A -BIG- Screen Mini Review. Viewed Sept.05, 20...   8 September 2021  \n",
       "3     Perfect Fantasy film to watch with full family...   4 September 2021  \n",
       "4     Keeping it short. This movie had it all. Great...   6 September 2021  \n",
       "...                                                 ...                ...  \n",
       "1220  Tony leung I will no longer be a minor in a fe...  11 September 2021  \n",
       "1221  I thought that this movie was pretty good. I w...  11 September 2021  \n",
       "1222  One of the best mcu movies tbh I really liked ...  11 September 2021  \n",
       "1223  Shang - Chi is the new hero of the MCU and eve...  11 September 2021  \n",
       "1224                                               null  11 September 2021  \n",
       "\n",
       "[1225 rows x 5 columns]"
      ]
     },
     "execution_count": 5,
     "metadata": {},
     "output_type": "execute_result"
    }
   ],
   "source": [
    "import pandas as pd\n",
    "\n",
    "\n",
    "# a = {'Links' : lines ,'Titles' : titles , 'Singers': finalsingers , 'Albums':finalalbums , 'Years' : years}\n",
    "# df = pd.DataFrame.from_dict(a, orient='index')\n",
    "# df = df.transpose()\n",
    "\n",
    "\n",
    "test_df = {'User Name': U_Name,\n",
    "'Star': R_Star,\n",
    "'Review Title': R_Title,\n",
    "'Review Text': R_text,\n",
    "'Review Posted Time': R_P_Time\n",
    "}\n",
    "\n",
    "df = pd.DataFrame.from_dict(test_df, orient='index')\n",
    "df = df.transpose()\n",
    "\n",
    "\n",
    "# print(len(U_Name),len(R_Star),len(R_Title),len(R_text),len(R_P_Time))\n",
    "# test_df\n",
    "\n",
    "df"
   ]
  },
  {
   "cell_type": "code",
   "execution_count": 8,
   "metadata": {},
   "outputs": [],
   "source": [
    "df.to_csv('file_name.csv', index=False)"
   ]
  },
  {
   "cell_type": "markdown",
   "metadata": {},
   "source": [
    "Here is a [legal case](https://github.com/unt-iialab/info5731-fall2021/blob/main/assignments/01-05-1%20%20Adams%20v%20Tanner.txt) we collected from westlaw, please follow the steps we mentioned in lesson 5 to clean the data:\n",
    "\n",
    "\n",
    "\n",
    "(1) Basic feature extraction using text data\n",
    "\n",
    "*   Number of sentences\n",
    "*   Number of words\n",
    "*   Number of characters\n",
    "*   Average word length\n",
    "*   Number of stopwords\n",
    "*   Number of special characters\n",
    "*   Number of numerics\n",
    "*   Number of uppercase words\n",
    "\n",
    "(2) Basic Text Pre-processing of text data\n",
    "\n",
    "*   Lower casing\n",
    "*   Punctuation removal\n",
    "*   Stopwords removal\n",
    "*   Frequent words removal\n",
    "*   Rare words removal\n",
    "*   Spelling correction\n",
    "*   Tokenization\n",
    "*   Stemming\n",
    "*   Lemmatization\n",
    "\n",
    "(3) Save all the **clean sentences** to a **csv file** (one column, each raw is a sentence) after finishing all the steps above.\n",
    "\n",
    "\n",
    "(4) Advance Text Processing\n",
    "\n",
    "*   Calculate the term frequency of all the terms.\n",
    "*   Print out top 10 1-gram, top 10 2-grams, and top 10 3-grams terms as features.\n"
   ]
  },
  {
   "cell_type": "code",
   "execution_count": 10,
   "metadata": {},
   "outputs": [
    {
     "data": {
      "text/html": [
       "<div>\n",
       "<style scoped>\n",
       "    .dataframe tbody tr th:only-of-type {\n",
       "        vertical-align: middle;\n",
       "    }\n",
       "\n",
       "    .dataframe tbody tr th {\n",
       "        vertical-align: top;\n",
       "    }\n",
       "\n",
       "    .dataframe thead th {\n",
       "        text-align: right;\n",
       "    }\n",
       "</style>\n",
       "<table border=\"1\" class=\"dataframe\">\n",
       "  <thead>\n",
       "    <tr style=\"text-align: right;\">\n",
       "      <th></th>\n",
       "      <th>Review Title</th>\n",
       "      <th>word_count</th>\n",
       "    </tr>\n",
       "  </thead>\n",
       "  <tbody>\n",
       "    <tr>\n",
       "      <th>0</th>\n",
       "      <td>Who knew a superhero film could be so beautiful?</td>\n",
       "      <td>9</td>\n",
       "    </tr>\n",
       "    <tr>\n",
       "      <th>1</th>\n",
       "      <td>something unique and fresh</td>\n",
       "      <td>4</td>\n",
       "    </tr>\n",
       "    <tr>\n",
       "      <th>2</th>\n",
       "      <td>Crouching Tiger, Hidden MARVEL . . . And So MU...</td>\n",
       "      <td>17</td>\n",
       "    </tr>\n",
       "    <tr>\n",
       "      <th>3</th>\n",
       "      <td>It's a Visual treat</td>\n",
       "      <td>4</td>\n",
       "    </tr>\n",
       "    <tr>\n",
       "      <th>4</th>\n",
       "      <td>Best non-avengers MCU movie</td>\n",
       "      <td>4</td>\n",
       "    </tr>\n",
       "  </tbody>\n",
       "</table>\n",
       "</div>"
      ],
      "text/plain": [
       "                                        Review Title  word_count\n",
       "0   Who knew a superhero film could be so beautiful?           9\n",
       "1                         something unique and fresh           4\n",
       "2  Crouching Tiger, Hidden MARVEL . . . And So MU...          17\n",
       "3                                It's a Visual treat           4\n",
       "4                        Best non-avengers MCU movie           4"
      ]
     },
     "execution_count": 10,
     "metadata": {},
     "output_type": "execute_result"
    }
   ],
   "source": [
    "# 1.1 Number of Words\n",
    "import pandas as pd\n",
    "train = pd.read_csv('file_name.csv')\n",
    "train['word_count'] = train['Review Title'].apply(lambda x: len(str(x).split(\" \")))\n",
    "train[['Review Title','word_count']].head()"
   ]
  },
  {
   "cell_type": "code",
   "execution_count": 11,
   "metadata": {},
   "outputs": [
    {
     "data": {
      "text/html": [
       "<div>\n",
       "<style scoped>\n",
       "    .dataframe tbody tr th:only-of-type {\n",
       "        vertical-align: middle;\n",
       "    }\n",
       "\n",
       "    .dataframe tbody tr th {\n",
       "        vertical-align: top;\n",
       "    }\n",
       "\n",
       "    .dataframe thead th {\n",
       "        text-align: right;\n",
       "    }\n",
       "</style>\n",
       "<table border=\"1\" class=\"dataframe\">\n",
       "  <thead>\n",
       "    <tr style=\"text-align: right;\">\n",
       "      <th></th>\n",
       "      <th>Review Title</th>\n",
       "      <th>char_count</th>\n",
       "    </tr>\n",
       "  </thead>\n",
       "  <tbody>\n",
       "    <tr>\n",
       "      <th>0</th>\n",
       "      <td>Who knew a superhero film could be so beautiful?</td>\n",
       "      <td>48</td>\n",
       "    </tr>\n",
       "    <tr>\n",
       "      <th>1</th>\n",
       "      <td>something unique and fresh</td>\n",
       "      <td>26</td>\n",
       "    </tr>\n",
       "    <tr>\n",
       "      <th>2</th>\n",
       "      <td>Crouching Tiger, Hidden MARVEL . . . And So MU...</td>\n",
       "      <td>71</td>\n",
       "    </tr>\n",
       "    <tr>\n",
       "      <th>3</th>\n",
       "      <td>It's a Visual treat</td>\n",
       "      <td>19</td>\n",
       "    </tr>\n",
       "    <tr>\n",
       "      <th>4</th>\n",
       "      <td>Best non-avengers MCU movie</td>\n",
       "      <td>27</td>\n",
       "    </tr>\n",
       "  </tbody>\n",
       "</table>\n",
       "</div>"
      ],
      "text/plain": [
       "                                        Review Title  char_count\n",
       "0   Who knew a superhero film could be so beautiful?          48\n",
       "1                         something unique and fresh          26\n",
       "2  Crouching Tiger, Hidden MARVEL . . . And So MU...          71\n",
       "3                                It's a Visual treat          19\n",
       "4                        Best non-avengers MCU movie          27"
      ]
     },
     "execution_count": 11,
     "metadata": {},
     "output_type": "execute_result"
    }
   ],
   "source": [
    "#1.2 Number of characters\n",
    "train['char_count'] = train['Review Title'].str.len() ## this also includes spaces\n",
    "train[['Review Title','char_count']].head()"
   ]
  },
  {
   "cell_type": "code",
   "execution_count": 12,
   "metadata": {},
   "outputs": [
    {
     "data": {
      "text/html": [
       "<div>\n",
       "<style scoped>\n",
       "    .dataframe tbody tr th:only-of-type {\n",
       "        vertical-align: middle;\n",
       "    }\n",
       "\n",
       "    .dataframe tbody tr th {\n",
       "        vertical-align: top;\n",
       "    }\n",
       "\n",
       "    .dataframe thead th {\n",
       "        text-align: right;\n",
       "    }\n",
       "</style>\n",
       "<table border=\"1\" class=\"dataframe\">\n",
       "  <thead>\n",
       "    <tr style=\"text-align: right;\">\n",
       "      <th></th>\n",
       "      <th>Review Title</th>\n",
       "      <th>avg_word</th>\n",
       "    </tr>\n",
       "  </thead>\n",
       "  <tbody>\n",
       "    <tr>\n",
       "      <th>0</th>\n",
       "      <td>Who knew a superhero film could be so beautiful?</td>\n",
       "      <td>4.444444</td>\n",
       "    </tr>\n",
       "    <tr>\n",
       "      <th>1</th>\n",
       "      <td>something unique and fresh</td>\n",
       "      <td>5.750000</td>\n",
       "    </tr>\n",
       "    <tr>\n",
       "      <th>2</th>\n",
       "      <td>Crouching Tiger, Hidden MARVEL . . . And So MU...</td>\n",
       "      <td>3.235294</td>\n",
       "    </tr>\n",
       "    <tr>\n",
       "      <th>3</th>\n",
       "      <td>It's a Visual treat</td>\n",
       "      <td>4.000000</td>\n",
       "    </tr>\n",
       "    <tr>\n",
       "      <th>4</th>\n",
       "      <td>Best non-avengers MCU movie</td>\n",
       "      <td>6.000000</td>\n",
       "    </tr>\n",
       "  </tbody>\n",
       "</table>\n",
       "</div>"
      ],
      "text/plain": [
       "                                        Review Title  avg_word\n",
       "0   Who knew a superhero film could be so beautiful?  4.444444\n",
       "1                         something unique and fresh  5.750000\n",
       "2  Crouching Tiger, Hidden MARVEL . . . And So MU...  3.235294\n",
       "3                                It's a Visual treat  4.000000\n",
       "4                        Best non-avengers MCU movie  6.000000"
      ]
     },
     "execution_count": 12,
     "metadata": {},
     "output_type": "execute_result"
    }
   ],
   "source": [
    "# 1.3 Average Word Length\n",
    "\n",
    "def avg_word(sentence):\n",
    "  words = sentence.split()\n",
    "  return (sum(len(word) for word in words)/len(words))\n",
    "\n",
    "train['avg_word'] = train['Review Title'].apply(lambda x: avg_word(x))\n",
    "train[['Review Title','avg_word']].head()"
   ]
  },
  {
   "cell_type": "code",
   "execution_count": 13,
   "metadata": {},
   "outputs": [
    {
     "name": "stderr",
     "output_type": "stream",
     "text": [
      "[nltk_data] Downloading package stopwords to\n",
      "[nltk_data]     C:\\Users\\17655\\AppData\\Roaming\\nltk_data...\n",
      "[nltk_data]   Unzipping corpora\\stopwords.zip.\n"
     ]
    },
    {
     "data": {
      "text/html": [
       "<div>\n",
       "<style scoped>\n",
       "    .dataframe tbody tr th:only-of-type {\n",
       "        vertical-align: middle;\n",
       "    }\n",
       "\n",
       "    .dataframe tbody tr th {\n",
       "        vertical-align: top;\n",
       "    }\n",
       "\n",
       "    .dataframe thead th {\n",
       "        text-align: right;\n",
       "    }\n",
       "</style>\n",
       "<table border=\"1\" class=\"dataframe\">\n",
       "  <thead>\n",
       "    <tr style=\"text-align: right;\">\n",
       "      <th></th>\n",
       "      <th>Review Title</th>\n",
       "      <th>stopwords</th>\n",
       "    </tr>\n",
       "  </thead>\n",
       "  <tbody>\n",
       "    <tr>\n",
       "      <th>0</th>\n",
       "      <td>Who knew a superhero film could be so beautiful?</td>\n",
       "      <td>3</td>\n",
       "    </tr>\n",
       "    <tr>\n",
       "      <th>1</th>\n",
       "      <td>something unique and fresh</td>\n",
       "      <td>1</td>\n",
       "    </tr>\n",
       "    <tr>\n",
       "      <th>2</th>\n",
       "      <td>Crouching Tiger, Hidden MARVEL . . . And So MU...</td>\n",
       "      <td>0</td>\n",
       "    </tr>\n",
       "    <tr>\n",
       "      <th>3</th>\n",
       "      <td>It's a Visual treat</td>\n",
       "      <td>1</td>\n",
       "    </tr>\n",
       "    <tr>\n",
       "      <th>4</th>\n",
       "      <td>Best non-avengers MCU movie</td>\n",
       "      <td>0</td>\n",
       "    </tr>\n",
       "  </tbody>\n",
       "</table>\n",
       "</div>"
      ],
      "text/plain": [
       "                                        Review Title  stopwords\n",
       "0   Who knew a superhero film could be so beautiful?          3\n",
       "1                         something unique and fresh          1\n",
       "2  Crouching Tiger, Hidden MARVEL . . . And So MU...          0\n",
       "3                                It's a Visual treat          1\n",
       "4                        Best non-avengers MCU movie          0"
      ]
     },
     "execution_count": 13,
     "metadata": {},
     "output_type": "execute_result"
    }
   ],
   "source": [
    "# 1.4 Number of stopwords\n",
    "from nltk.corpus import stopwords\n",
    "\n",
    "import nltk\n",
    "nltk.download('stopwords')\n",
    "stop = stopwords.words('english')\n",
    "\n",
    "train['stopwords'] = train['Review Title'].apply(lambda x: len([x for x in x.split() if x in stop]))\n",
    "train[['Review Title','stopwords']].head()"
   ]
  },
  {
   "cell_type": "code",
   "execution_count": 15,
   "metadata": {},
   "outputs": [
    {
     "data": {
      "text/html": [
       "<div>\n",
       "<style scoped>\n",
       "    .dataframe tbody tr th:only-of-type {\n",
       "        vertical-align: middle;\n",
       "    }\n",
       "\n",
       "    .dataframe tbody tr th {\n",
       "        vertical-align: top;\n",
       "    }\n",
       "\n",
       "    .dataframe thead th {\n",
       "        text-align: right;\n",
       "    }\n",
       "</style>\n",
       "<table border=\"1\" class=\"dataframe\">\n",
       "  <thead>\n",
       "    <tr style=\"text-align: right;\">\n",
       "      <th></th>\n",
       "      <th>Review Title</th>\n",
       "      <th>numerics</th>\n",
       "    </tr>\n",
       "  </thead>\n",
       "  <tbody>\n",
       "    <tr>\n",
       "      <th>0</th>\n",
       "      <td>Who knew a superhero film could be so beautiful?</td>\n",
       "      <td>0</td>\n",
       "    </tr>\n",
       "    <tr>\n",
       "      <th>1</th>\n",
       "      <td>something unique and fresh</td>\n",
       "      <td>0</td>\n",
       "    </tr>\n",
       "    <tr>\n",
       "      <th>2</th>\n",
       "      <td>Crouching Tiger, Hidden MARVEL . . . And So MU...</td>\n",
       "      <td>0</td>\n",
       "    </tr>\n",
       "    <tr>\n",
       "      <th>3</th>\n",
       "      <td>It's a Visual treat</td>\n",
       "      <td>0</td>\n",
       "    </tr>\n",
       "    <tr>\n",
       "      <th>4</th>\n",
       "      <td>Best non-avengers MCU movie</td>\n",
       "      <td>0</td>\n",
       "    </tr>\n",
       "  </tbody>\n",
       "</table>\n",
       "</div>"
      ],
      "text/plain": [
       "                                        Review Title  numerics\n",
       "0   Who knew a superhero film could be so beautiful?         0\n",
       "1                         something unique and fresh         0\n",
       "2  Crouching Tiger, Hidden MARVEL . . . And So MU...         0\n",
       "3                                It's a Visual treat         0\n",
       "4                        Best non-avengers MCU movie         0"
      ]
     },
     "execution_count": 15,
     "metadata": {},
     "output_type": "execute_result"
    }
   ],
   "source": [
    "# 1.6 Number of numerics\n",
    "train['numerics'] = train['Review Title'].apply(lambda x: len([x for x in x.split() if x.isdigit()]))\n",
    "train[['Review Title','numerics']].head()"
   ]
  },
  {
   "cell_type": "code",
   "execution_count": 16,
   "metadata": {},
   "outputs": [
    {
     "data": {
      "text/html": [
       "<div>\n",
       "<style scoped>\n",
       "    .dataframe tbody tr th:only-of-type {\n",
       "        vertical-align: middle;\n",
       "    }\n",
       "\n",
       "    .dataframe tbody tr th {\n",
       "        vertical-align: top;\n",
       "    }\n",
       "\n",
       "    .dataframe thead th {\n",
       "        text-align: right;\n",
       "    }\n",
       "</style>\n",
       "<table border=\"1\" class=\"dataframe\">\n",
       "  <thead>\n",
       "    <tr style=\"text-align: right;\">\n",
       "      <th></th>\n",
       "      <th>Review Title</th>\n",
       "      <th>upper</th>\n",
       "    </tr>\n",
       "  </thead>\n",
       "  <tbody>\n",
       "    <tr>\n",
       "      <th>0</th>\n",
       "      <td>Who knew a superhero film could be so beautiful?</td>\n",
       "      <td>0</td>\n",
       "    </tr>\n",
       "    <tr>\n",
       "      <th>1</th>\n",
       "      <td>something unique and fresh</td>\n",
       "      <td>0</td>\n",
       "    </tr>\n",
       "    <tr>\n",
       "      <th>2</th>\n",
       "      <td>Crouching Tiger, Hidden MARVEL . . . And So MU...</td>\n",
       "      <td>5</td>\n",
       "    </tr>\n",
       "    <tr>\n",
       "      <th>3</th>\n",
       "      <td>It's a Visual treat</td>\n",
       "      <td>0</td>\n",
       "    </tr>\n",
       "    <tr>\n",
       "      <th>4</th>\n",
       "      <td>Best non-avengers MCU movie</td>\n",
       "      <td>1</td>\n",
       "    </tr>\n",
       "  </tbody>\n",
       "</table>\n",
       "</div>"
      ],
      "text/plain": [
       "                                        Review Title  upper\n",
       "0   Who knew a superhero film could be so beautiful?      0\n",
       "1                         something unique and fresh      0\n",
       "2  Crouching Tiger, Hidden MARVEL . . . And So MU...      5\n",
       "3                                It's a Visual treat      0\n",
       "4                        Best non-avengers MCU movie      1"
      ]
     },
     "execution_count": 16,
     "metadata": {},
     "output_type": "execute_result"
    }
   ],
   "source": [
    "# 1.7 Number of Uppercase words\n",
    "train['upper'] = train['Review Title'].apply(lambda x: len([x for x in x.split() if x.isupper()]))\n",
    "train[['Review Title','upper']].head()"
   ]
  },
  {
   "cell_type": "code",
   "execution_count": 17,
   "metadata": {},
   "outputs": [
    {
     "data": {
      "text/plain": [
       "0     who knew a superhero film could be so beautiful?\n",
       "1                           something unique and fresh\n",
       "2    crouching tiger, hidden marvel . . . and so mu...\n",
       "3                                  it's a visual treat\n",
       "4                          best non-avengers mcu movie\n",
       "Name: Review Title, dtype: object"
      ]
     },
     "execution_count": 17,
     "metadata": {},
     "output_type": "execute_result"
    }
   ],
   "source": [
    "# 2.1 Lower case\n",
    "train['Review Title'] = train['Review Title'].apply(lambda x: \" \".join(x.lower() for x in x.split()))\n",
    "train['Review Title'].head()"
   ]
  },
  {
   "cell_type": "code",
   "execution_count": 18,
   "metadata": {},
   "outputs": [
    {
     "data": {
      "text/plain": [
       "0      who knew a superhero film could be so beautiful\n",
       "1                           something unique and fresh\n",
       "2    crouching tiger hidden marvel    and so much  ...\n",
       "3                                   its a visual treat\n",
       "4                           best nonavengers mcu movie\n",
       "Name: Review Title, dtype: object"
      ]
     },
     "execution_count": 18,
     "metadata": {},
     "output_type": "execute_result"
    }
   ],
   "source": [
    "# 2.2 Removing Punctuation\n",
    "train['Review Title'] = train['Review Title'].str.replace('[^\\w\\s]','')\n",
    "train['Review Title'].head()"
   ]
  },
  {
   "cell_type": "code",
   "execution_count": 19,
   "metadata": {},
   "outputs": [
    {
     "data": {
      "text/plain": [
       "0             knew superhero film could beautiful\n",
       "1                          something unique fresh\n",
       "2    crouching tiger hidden marvel much much much\n",
       "3                                    visual treat\n",
       "4                      best nonavengers mcu movie\n",
       "Name: Review Title, dtype: object"
      ]
     },
     "execution_count": 19,
     "metadata": {},
     "output_type": "execute_result"
    }
   ],
   "source": [
    "# 2.3 Removal of Stop Words\n",
    "from nltk.corpus import stopwords\n",
    "stop = stopwords.words('english')\n",
    "train['Review Title'] = train['Review Title'].apply(lambda x: \" \".join(x for x in x.split() if x not in stop))\n",
    "train['Review Title'].head()"
   ]
  },
  {
   "cell_type": "code",
   "execution_count": 20,
   "metadata": {},
   "outputs": [
    {
     "data": {
      "text/plain": [
       "movie      250\n",
       "marvel     207\n",
       "good        97\n",
       "best        94\n",
       "great       89\n",
       "mcu         77\n",
       "amazing     53\n",
       "film        50\n",
       "story       46\n",
       "one         46\n",
       "dtype: int64"
      ]
     },
     "execution_count": 20,
     "metadata": {},
     "output_type": "execute_result"
    }
   ],
   "source": [
    "# 2.4 Common word removal\n",
    "freq = pd.Series(' '.join(train['Review Title']).split()).value_counts()[:10]\n",
    "freq"
   ]
  },
  {
   "cell_type": "code",
   "execution_count": 21,
   "metadata": {},
   "outputs": [
    {
     "data": {
      "text/plain": [
       "0           knew superhero could beautiful\n",
       "1                   something unique fresh\n",
       "2    crouching tiger hidden much much much\n",
       "3                             visual treat\n",
       "4                              nonavengers\n",
       "Name: Review Title, dtype: object"
      ]
     },
     "execution_count": 21,
     "metadata": {},
     "output_type": "execute_result"
    }
   ],
   "source": [
    "freq = list(freq.index)\n",
    "train['Review Title'] = train['Review Title'].apply(lambda x: \" \".join(x for x in x.split() if x not in freq))\n",
    "train['Review Title'].head()"
   ]
  },
  {
   "cell_type": "code",
   "execution_count": 22,
   "metadata": {},
   "outputs": [
    {
     "data": {
      "text/plain": [
       "flyer     1\n",
       "repeat    1\n",
       "soo       1\n",
       "button    1\n",
       "bored     1\n",
       "guys      1\n",
       "praise    1\n",
       "hand      1\n",
       "chang     1\n",
       "martin    1\n",
       "dtype: int64"
      ]
     },
     "execution_count": 22,
     "metadata": {},
     "output_type": "execute_result"
    }
   ],
   "source": [
    "# 2.5 Rare words removal\n",
    "freq = pd.Series(' '.join(train['Review Title']).split()).value_counts()[-10:]\n",
    "freq"
   ]
  },
  {
   "cell_type": "code",
   "execution_count": 23,
   "metadata": {},
   "outputs": [
    {
     "data": {
      "text/plain": [
       "0           knew superhero could beautiful\n",
       "1                   something unique fresh\n",
       "2    crouching tiger hidden much much much\n",
       "3                             visual treat\n",
       "4                              nonavengers\n",
       "Name: Review Title, dtype: object"
      ]
     },
     "execution_count": 23,
     "metadata": {},
     "output_type": "execute_result"
    }
   ],
   "source": [
    "freq = list(freq.index)\n",
    "train['Review Title'] = train['Review Title'].apply(lambda x: \" \".join(x for x in x.split() if x not in freq))\n",
    "train['Review Title'].head()"
   ]
  },
  {
   "cell_type": "code",
   "execution_count": 31,
   "metadata": {},
   "outputs": [
    {
     "name": "stdout",
     "output_type": "stream",
     "text": [
      "Requirement already up-to-date: textblob in d:\\anaconda3\\lib\\site-packages (0.15.3)\n",
      "Requirement already satisfied, skipping upgrade: nltk>=3.1 in d:\\anaconda3\\lib\\site-packages (from textblob) (3.5)\n",
      "Requirement already satisfied, skipping upgrade: regex in d:\\anaconda3\\lib\\site-packages (from nltk>=3.1->textblob) (2020.10.15)\n",
      "Requirement already satisfied, skipping upgrade: joblib in d:\\anaconda3\\lib\\site-packages (from nltk>=3.1->textblob) (0.17.0)Note: you may need to restart the kernel to use updated packages.\n",
      "\n",
      "Requirement already satisfied, skipping upgrade: click in d:\\anaconda3\\lib\\site-packages (from nltk>=3.1->textblob) (7.1.2)\n",
      "Requirement already satisfied, skipping upgrade: tqdm in d:\\anaconda3\\lib\\site-packages (from nltk>=3.1->textblob) (4.50.2)\n"
     ]
    }
   ],
   "source": [
    "pip install -U textblob"
   ]
  },
  {
   "cell_type": "code",
   "execution_count": 34,
   "metadata": {},
   "outputs": [
    {
     "data": {
      "text/plain": [
       "0           knew superhero could beautiful\n",
       "1                   something unique fresh\n",
       "2    crouching tiger hidden much much much\n",
       "3                             visual treat\n",
       "4                              nonavengers\n",
       "Name: Review Title, dtype: object"
      ]
     },
     "execution_count": 34,
     "metadata": {},
     "output_type": "execute_result"
    }
   ],
   "source": [
    "# 2.6 Spelling correction\n",
    "from textblob import TextBlob\n",
    "\n",
    "train['Review Title'][:5].apply(lambda x: str(TextBlob(x).correct()))"
   ]
  },
  {
   "cell_type": "code",
   "execution_count": 35,
   "metadata": {},
   "outputs": [
    {
     "name": "stderr",
     "output_type": "stream",
     "text": [
      "[nltk_data] Downloading package punkt to\n",
      "[nltk_data]     C:\\Users\\17655\\AppData\\Roaming\\nltk_data...\n",
      "[nltk_data]   Unzipping tokenizers\\punkt.zip.\n"
     ]
    },
    {
     "data": {
      "text/plain": [
       "WordList(['something', 'unique', 'fresh'])"
      ]
     },
     "execution_count": 35,
     "metadata": {},
     "output_type": "execute_result"
    }
   ],
   "source": [
    "# 2.7 Tokenization\n",
    "import nltk\n",
    "nltk.download('punkt')\n",
    "TextBlob(train['Review Title'][1]).words"
   ]
  },
  {
   "cell_type": "code",
   "execution_count": 36,
   "metadata": {},
   "outputs": [
    {
     "data": {
      "text/plain": [
       "0           knew superhero could beauti\n",
       "1                    someth uniqu fresh\n",
       "2    crouch tiger hidden much much much\n",
       "3                          visual treat\n",
       "4                              nonaveng\n",
       "Name: Review Title, dtype: object"
      ]
     },
     "execution_count": 36,
     "metadata": {},
     "output_type": "execute_result"
    }
   ],
   "source": [
    "# 2.8 Stemming\n",
    "from nltk.stem import PorterStemmer\n",
    "st = PorterStemmer()\n",
    "train['Review Title'][:5].apply(lambda x: \" \".join([st.stem(word) for word in x.split()]))"
   ]
  },
  {
   "cell_type": "code",
   "execution_count": 37,
   "metadata": {},
   "outputs": [
    {
     "name": "stderr",
     "output_type": "stream",
     "text": [
      "[nltk_data] Downloading package wordnet to\n",
      "[nltk_data]     C:\\Users\\17655\\AppData\\Roaming\\nltk_data...\n",
      "[nltk_data]   Unzipping corpora\\wordnet.zip.\n"
     ]
    },
    {
     "data": {
      "text/plain": [
       "0           knew superhero could beautiful\n",
       "1                   something unique fresh\n",
       "2    crouching tiger hidden much much much\n",
       "3                             visual treat\n",
       "4                              nonavengers\n",
       "Name: Review Title, dtype: object"
      ]
     },
     "execution_count": 37,
     "metadata": {},
     "output_type": "execute_result"
    }
   ],
   "source": [
    "# 2.9 Lemmatization\n",
    "\n",
    "from textblob import Word\n",
    "import nltk\n",
    "nltk.download('wordnet')\n",
    "\n",
    "train['Review Title'] = train['Review Title'].apply(lambda x: \" \".join([Word(word).lemmatize() for word in x.split()]))\n",
    "train['Review Title'].head()"
   ]
  },
  {
   "cell_type": "code",
   "execution_count": null,
   "metadata": {},
   "outputs": [],
   "source": []
  }
 ],
 "metadata": {
  "kernelspec": {
   "display_name": "Python 3",
   "language": "python",
   "name": "python3"
  },
  "language_info": {
   "codemirror_mode": {
    "name": "ipython",
    "version": 3
   },
   "file_extension": ".py",
   "mimetype": "text/x-python",
   "name": "python",
   "nbconvert_exporter": "python",
   "pygments_lexer": "ipython3",
   "version": "3.8.5"
  }
 },
 "nbformat": 4,
 "nbformat_minor": 4
}
