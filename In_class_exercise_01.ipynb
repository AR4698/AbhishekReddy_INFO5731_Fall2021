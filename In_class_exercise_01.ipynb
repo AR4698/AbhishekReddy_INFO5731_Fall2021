{
  "nbformat": 4,
  "nbformat_minor": 0,
  "metadata": {
    "colab": {
      "name": "In_class_exercise_01.ipynb",
      "provenance": [],
      "collapsed_sections": [],
      "include_colab_link": true
    },
    "kernelspec": {
      "display_name": "Python 3",
      "language": "python",
      "name": "python3"
    },
    "language_info": {
      "codemirror_mode": {
        "name": "ipython",
        "version": 3
      },
      "file_extension": ".py",
      "mimetype": "text/x-python",
      "name": "python",
      "nbconvert_exporter": "python",
      "pygments_lexer": "ipython3",
      "version": "3.8.5"
    }
  },
  "cells": [
    {
      "cell_type": "markdown",
      "metadata": {
        "id": "view-in-github",
        "colab_type": "text"
      },
      "source": [
        "<a href=\"https://colab.research.google.com/github/AR4698/AbhishekReddy_INFO5731_Fall2021/blob/main/In_class_exercise_01.ipynb\" target=\"_parent\"><img src=\"https://colab.research.google.com/assets/colab-badge.svg\" alt=\"Open In Colab\"/></a>"
      ]
    },
    {
      "cell_type": "markdown",
      "metadata": {
        "id": "DymRJbxDBCnf"
      },
      "source": [
        "# **The first In-class-exercise (09/01/2021, 40 points in total)**"
      ]
    },
    {
      "cell_type": "markdown",
      "metadata": {
        "id": "03jb4GZsBkBS"
      },
      "source": [
        "(1) Write a Python program to calculate the length of a string. (4 points)"
      ]
    },
    {
      "cell_type": "code",
      "metadata": {
        "colab": {
          "base_uri": "https://localhost:8080/"
        },
        "id": "YaGLbSHHB8Ej",
        "outputId": "aa1a6885-a5b4-4bd3-98ed-4a7f5fca2fed"
      },
      "source": [
        "# write your answer here\n",
        "\n",
        "cal_len_str=input(\"Enter a string : \")\n",
        "count=0\n",
        "for i in cal_len_str:\n",
        "  count+=1\n",
        "\n",
        "print(\"The length of string {} is {}\".format(cal_len_str,count))\n",
        "print(\"Length of string using len function \", len(cal_len_str))"
      ],
      "execution_count": null,
      "outputs": [
        {
          "output_type": "stream",
          "name": "stdout",
          "text": [
            "Enter a string : Abhishek Reddy Boddu\n",
            "The length of string Abhishek Reddy Boddu is 20\n",
            "Length of string using len function  20\n"
          ]
        }
      ]
    },
    {
      "cell_type": "markdown",
      "metadata": {
        "id": "jJDe71iLB616"
      },
      "source": [
        "(2) Write a Python program to count the number of characters in a string. (4 points)\n",
        "\n",
        "Sample String : 'google.com‘, \n",
        "\n",
        "Expected Result : {'o': 3, 'g': 2, '.': 1, 'e': 1, 'l': 1, 'm': 1, 'c': 1}"
      ]
    },
    {
      "cell_type": "code",
      "metadata": {
        "colab": {
          "base_uri": "https://localhost:8080/"
        },
        "id": "MtKskTzbCLaU",
        "outputId": "d5ce4874-cf42-4bee-a469-faa9bd4a04d2"
      },
      "source": [
        "# write your answer here\n",
        "\n",
        "\n",
        "def count_characters(Sample_String):\n",
        "    dict = {}\n",
        "    for i in Sample_String:\n",
        "        s = dict.keys() # creating each letter as a key \n",
        "        if i in s:\n",
        "            dict[i] += 1 # increasing the value of that key by 1 if it already exists.\n",
        "        else:\n",
        "            dict[i] = 1 # else initializing the value of the letter to 1.\n",
        "    return dict\n",
        "\n",
        "print(count_characters('google.com'))\n",
        "\n"
      ],
      "execution_count": null,
      "outputs": [
        {
          "output_type": "stream",
          "name": "stdout",
          "text": [
            "{'g': 2, 'o': 3, 'l': 1, 'e': 1, '.': 1, 'c': 1, 'm': 1}\n"
          ]
        }
      ]
    },
    {
      "cell_type": "markdown",
      "metadata": {
        "id": "55W9AMdXCSpV"
      },
      "source": [
        "(3) Write a Python program to sum all the items in a list. (4 points)"
      ]
    },
    {
      "cell_type": "code",
      "metadata": {
        "colab": {
          "base_uri": "https://localhost:8080/"
        },
        "id": "I57NXsauCec2",
        "outputId": "eada74ff-e860-4fba-ac55-b7a3361f6474"
      },
      "source": [
        "# write your answer here\n",
        "\n",
        "list1=[2,3,4 ,34,209,35] # created a random list.\n",
        "Sum=0 # to sum all the elements in the list \n",
        "for i in range(len(list1)):\n",
        "  Sum+=list1[i]\n",
        "\n",
        "print(\"Sum of all the items in list1 : {} is {} \".format(list1,Sum))\n",
        "  \n",
        "\n"
      ],
      "execution_count": null,
      "outputs": [
        {
          "output_type": "stream",
          "name": "stdout",
          "text": [
            "Sum of all the items in list1 : [2, 3, 4, 34, 209, 35] is 287 \n"
          ]
        }
      ]
    },
    {
      "cell_type": "markdown",
      "metadata": {
        "id": "4ulBZ6yhCi9F"
      },
      "source": [
        "(4) Write a Python program to get a string from a given string where all occurrences of its first char have been changed to '\\$', except the first char itself. (4 points)\n",
        "\n",
        "Sample String : 'restart‘, \n",
        "\n",
        "Expected Result : 'resta\\$t'"
      ]
    },
    {
      "cell_type": "code",
      "metadata": {
        "colab": {
          "base_uri": "https://localhost:8080/"
        },
        "id": "Fj0XhwbBCw2o",
        "outputId": "d192765a-7485-4e34-f88a-3b0d82421c51"
      },
      "source": [
        "# write your answer here\n",
        "\n",
        "sample_string='restart'\n",
        "\n",
        "first_char=sample_string[0] # it stores 'r'\n",
        "\n",
        "# now we need to replace all the 'r' in the string to '$'.\n",
        "\n",
        "sample_string=sample_string.replace(first_char,'$') \n",
        "\n",
        "print(\"Sample output is {} \".format(sample_string))\n",
        "\n",
        "# Now where all occurrences of its first char have been changed to '$', except the first char itself.\n",
        "\n",
        "# we're concatinating the first_char('r') and rest of the sample string except first letter in that.\n",
        "\n",
        "sample_string=first_char + sample_string[1:] \n",
        "\n",
        "print(\"Main output is : {} \".format(sample_string))\n",
        "\n"
      ],
      "execution_count": null,
      "outputs": [
        {
          "output_type": "stream",
          "name": "stdout",
          "text": [
            "Sample output is $esta$t \n",
            "Main output is : resta$t \n"
          ]
        }
      ]
    },
    {
      "cell_type": "markdown",
      "metadata": {
        "id": "_bIP7s1MCzue"
      },
      "source": [
        "(5) Write a program with python which could accept two parameter a and b to calculate and output the result of S, where \n",
        "\n",
        "$\\ S=3.14*(1+a/b)^3$ (4 points)\n",
        "\n"
      ]
    },
    {
      "cell_type": "code",
      "metadata": {
        "id": "w79QilHXD3Mg",
        "colab": {
          "base_uri": "https://localhost:8080/"
        },
        "outputId": "04910cd7-26aa-4248-be27-630b183eac3e"
      },
      "source": [
        "# write your answer here\n",
        "\n",
        "a= int(input(\"a = \"))\n",
        "b= int( input(\"b = \"))\n",
        "\n",
        "S = 3.14 * ( 1+(a/b))**3\n",
        "\n",
        "print(\"result of S : {} \".format(S))\n",
        "\n"
      ],
      "execution_count": null,
      "outputs": [
        {
          "output_type": "stream",
          "name": "stdout",
          "text": [
            "a = 3\n",
            "b = 5\n",
            "result of S : 12.861440000000004 \n"
          ]
        }
      ]
    },
    {
      "cell_type": "markdown",
      "metadata": {
        "id": "xCa2bK9aD4Q3"
      },
      "source": [
        "(6) Write a Python program to concatenate following dictionaries to create a new one. (4 points)\n",
        "\n",
        "Sample Dictionary : dic1={1:10, 2:20}, dic2={3:30, 4:40}, dic3={5:50,6:60}, \n",
        "\n",
        "Expected Result : {1: 10, 2: 20, 3: 30, 4: 40, 5: 50, 6: 60}\n"
      ]
    },
    {
      "cell_type": "code",
      "metadata": {
        "id": "_z4aLqAbEET1",
        "colab": {
          "base_uri": "https://localhost:8080/"
        },
        "outputId": "3d21cc13-5082-47f0-ab37-a000163da3ab"
      },
      "source": [
        "# write your answer here\n",
        "\n",
        "dic1={1:10,2:20}\n",
        "dic2={3:30,4:40}\n",
        "dic3={5:50,6:60}\n",
        "\n",
        "#One way\n",
        "\n",
        "dic5={**dic1,**dic2,**dic3}\n",
        "print(dic5)\n",
        "\n",
        "#Another way\n",
        "\n",
        "\n",
        "dic1.update(dic2) # here i am adding to dic2 to dic1\n",
        "dic1.update(dic3) # here i am adding dic3 to updated dic1\n",
        "print(dic1) # Here's the overall concatenated dictionary\n",
        "\n",
        "# or we can do this way \n",
        "\n"
      ],
      "execution_count": null,
      "outputs": [
        {
          "output_type": "stream",
          "name": "stdout",
          "text": [
            "{1: 10, 2: 20, 3: 30, 4: 40, 5: 50, 6: 60}\n",
            "{1: 10, 2: 20, 3: 30, 4: 40, 5: 50, 6: 60}\n"
          ]
        }
      ]
    },
    {
      "cell_type": "markdown",
      "metadata": {
        "id": "0v48Vqa7FrQh"
      },
      "source": [
        "(7) Write a Python program to check whether an element exists within a tuple. (4 points)"
      ]
    },
    {
      "cell_type": "code",
      "metadata": {
        "id": "7WEmgq-DF2P1",
        "colab": {
          "base_uri": "https://localhost:8080/"
        },
        "outputId": "76aa62a9-a1b5-4232-f15f-bf00a277c3dd"
      },
      "source": [
        "# write your answer here\n",
        "\n",
        "# Tuples are used to store multiple items in a single variable.\n",
        "\n",
        "thistuple = (\"apple\", \"banana\", \"cherry\", \"apple\", \"cherry\")\n",
        "\n",
        "print(\"apple\" in thistuple)\n",
        "\n",
        "print(\"pineapple\" in thistuple)"
      ],
      "execution_count": null,
      "outputs": [
        {
          "output_type": "stream",
          "name": "stdout",
          "text": [
            "True\n",
            "False\n"
          ]
        }
      ]
    },
    {
      "cell_type": "markdown",
      "metadata": {
        "id": "vD5PYLMuGga_"
      },
      "source": [
        "(8) Write a Python program to find maximum and the minimum value in a set. (4 points)"
      ]
    },
    {
      "cell_type": "code",
      "metadata": {
        "id": "t0D5kdJUGjjw",
        "colab": {
          "base_uri": "https://localhost:8080/"
        },
        "outputId": "2b6a373d-3fb4-49c0-fc57-59630bf08f1c"
      },
      "source": [
        "# write your answer here\n",
        "\n",
        "Aset={2,5,6,9,80,65,0.76}\n",
        "\n",
        "print(\"Maximum in a set is {}\".format(max(Aset)))\n",
        "\n",
        "print(\"Minimum in a set is {}\".format(min(Aset)))\n"
      ],
      "execution_count": null,
      "outputs": [
        {
          "output_type": "stream",
          "name": "stdout",
          "text": [
            "Maximum in a set is 80\n",
            "Minimum in a set is 0.76\n"
          ]
        }
      ]
    },
    {
      "cell_type": "markdown",
      "metadata": {
        "id": "uHkd-y5VhVWC"
      },
      "source": [
        "(9) Write a Python program to randomly divide the students in this class into six groups for term projects, each group should have at least 4 students but no more than 6 students (including 6). Here is the students list: (4 points)\n",
        "\n",
        "studnet_list = ['vmb0067','pc0353','snd0097','yye0005','sg0940','bk0301','rak0120','rrk0058','spk0057','vl0135','nm0547','pn0159',\n",
        "           'msp0174','dd0420','ds0761','rs0850','ss1995','at0739','at0768','mv0299','tv0119','dy0091','py0080','ttp0037','hc0439','ri0094','pk0339', 'hn0145','mn0426']"
      ]
    },
    {
      "cell_type": "code",
      "metadata": {
        "id": "3iGbmcOBhTwy",
        "colab": {
          "base_uri": "https://localhost:8080/"
        },
        "outputId": "7f2d136e-343d-4b38-eae1-63f5bef52c44"
      },
      "source": [
        "# write your answer here\n",
        "\n",
        "studnet_list = ['vmb0067','pc0353','snd0097','yye0005','sg0940','bk0301','rak0120','rrk0058','spk0057','vl0135','nm0547','pn0159',\n",
        "                'msp0174','dd0420','ds0761','rs0850','ss1995','at0739','at0768','mv0299','tv0119','dy0091','py0080','ttp0037',\n",
        "                'hc0439','ri0094','pk0339', 'hn0145','mn0426']\n",
        "\n",
        "print(\"No.of students in the given list : {}\".format(len(studnet_list)))\n",
        "\n",
        "unique_set=set(studnet_list)\n",
        "\n",
        "print(unique_set)\n",
        "\n",
        "import random \n",
        "\n",
        "set2={}\n",
        "\n",
        "n=len(studnet_list)\n",
        "\n",
        "first loop - 29\n",
        "everytime i take one out i remove that one from the list and incrementt the count +1 until it reaches 5 and total count is ghreater than 1\n",
        "\n",
        "\n",
        "\n",
        "\n",
        "\n",
        "\n",
        "\n",
        "\n",
        "\n"
      ],
      "execution_count": 60,
      "outputs": [
        {
          "output_type": "stream",
          "name": "stdout",
          "text": [
            "No.of students in the given list : 29\n",
            "{'vmb0067', 'bk0301', 'nm0547', 'hc0439', 'at0768', 'ds0761', 'sg0940', 'tv0119', 'vl0135', 'rak0120', 'dd0420', 'spk0057', 'mn0426', 'rs0850', 'msp0174', 'ss1995', 'pk0339', 'at0739', 'hn0145', 'rrk0058', 'ttp0037', 'snd0097', 'py0080', 'yye0005', 'pc0353', 'dy0091', 'ri0094', 'pn0159', 'mv0299'}\n"
          ]
        }
      ]
    },
    {
      "cell_type": "markdown",
      "metadata": {
        "id": "oHr0jQuSLYwy"
      },
      "source": [
        "(10) Write a Python program to find the duplicate elements in a given array of integers. Return -1 If there are no such elements. (4 points)"
      ]
    },
    {
      "cell_type": "code",
      "metadata": {
        "id": "4jDpQ_wgLYwy",
        "colab": {
          "base_uri": "https://localhost:8080/"
        },
        "outputId": "e3572dbb-e63b-49db-b8df-c79cee77c2c0"
      },
      "source": [
        "# write your answer here\n",
        "\n",
        "arr=[10,40,20,30,40,20,1,5]\n",
        "\n",
        "dict={}\n",
        "\n",
        "for i in arr:\n",
        "        s = dict.keys() # creating each number as a key \n",
        "        if i in s:\n",
        "            dict[i] += 1 # increasing the value of that key by 1 if it already exists.\n",
        "        else:\n",
        "            dict[i] = 1 # else initializing the value of the letter to 1.\n",
        "\n",
        "new_arr=[-1]\n",
        "for x, y in dict.items():\n",
        "  if y>1:\n",
        "    new_arr.append(x)\n",
        "\n",
        "if len(new_arr)>1:\n",
        "  print(new_arr[1:])\n",
        "else:\n",
        "  print(new_arr)\n",
        "  \n"
      ],
      "execution_count": null,
      "outputs": [
        {
          "output_type": "stream",
          "name": "stdout",
          "text": [
            "[40, 20]\n"
          ]
        }
      ]
    },
    {
      "cell_type": "markdown",
      "metadata": {
        "id": "0-kFHk-bLYwz"
      },
      "source": [
        "(11) Write a Python program to select all the Sundays of a specified year. (4 extra points)"
      ]
    },
    {
      "cell_type": "code",
      "metadata": {
        "id": "GdyLIpJnLYwz"
      },
      "source": [
        "# write your answer here\n"
      ],
      "execution_count": null,
      "outputs": []
    }
  ]
}